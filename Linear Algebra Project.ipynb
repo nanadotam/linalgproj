{
  "cells": [
    {
      "cell_type": "code",
      "execution_count": 33,
      "metadata": {
        "id": "2ZwwywuyYpHY"
      },
      "outputs": [],
      "source": [
        "import numpy as np\n",
        "import sympy as sp\n",
        "import plotly.graph_objects as go\n",
        "import matplotlib.pyplot as plt\n",
        "from mpl_toolkits.mplot3d import Axes3D"
      ]
    },
    {
      "cell_type": "code",
      "execution_count": 34,
      "metadata": {
        "id": "WLyE4mzIYpHZ"
      },
      "outputs": [],
      "source": [
        "\"\"\"\n",
        "Create Augmented matrix from user input\n",
        "\"\"\"\n",
        "\n",
        "def create_matrix():\n",
        "    # Get number of rows and columns from user input\n",
        "    print(\"Enter the dimensions of the matrix:\")\n",
        "    rows = int(input(\"Enter the number of rows: \"))\n",
        "    cols = int(input(\"Enter the number of columns (including the augmented column): \"))\n",
        "\n",
        "    matrix = []  # Create an empty matrix\n",
        "\n",
        "    # Populate the matrix with user input\n",
        "    for i in range(rows):\n",
        "        while True:\n",
        "            # Prompt user to enter elements of the matrix for the current row\n",
        "            row = input(f\"Enter elements of the matrix at row {i+1} (including element at augmented column), separated by commas: \")\n",
        "            row = list(map(int, row.split(',')))\n",
        "\n",
        "            # Check if the row has the correct number of elements\n",
        "            if len(row) != cols:\n",
        "                print(f\"Error: You must enter exactly {cols} elements.\")\n",
        "            else:\n",
        "                matrix.append(row)  # Add the row to the matrix\n",
        "                break  # Exit the loop once a valid row is entered\n",
        "\n",
        "    # Allow the user to edit the matrix\n",
        "    while True:\n",
        "        print(\"\\nCurrent Matrix:\")\n",
        "        # Display the current matrix\n",
        "        for row in matrix:\n",
        "            print(\" \".join(map(str, row[:-1])) + \" | \" + str(row[-1]))\n",
        "\n",
        "        # Ask the user if they want to edit any value\n",
        "        edit = input(\"Would you like to edit any value? (yes/no): \").strip().lower()\n",
        "        if edit == 'yes':\n",
        "            # Prompt user to enter the row and column number to edit, and the new value\n",
        "            row_num = int(input(\"Enter the row number to edit: \")) - 1\n",
        "            col_num = int(input(\"Enter the column number to edit: \")) - 1\n",
        "            new_value = int(input(f\"Enter the new value for Row {row_num+1}, Column {col_num+1}: \"))\n",
        "            matrix[row_num][col_num] = new_value  # Update the matrix with the new value\n",
        "        elif edit == 'no':\n",
        "            break  # Exit the loop if no edits are needed\n",
        "        else:\n",
        "            print(\"Invalid input. Please enter 'yes' or 'no'.\")\n",
        "\n",
        "    return sp.Matrix(matrix)  # Return the matrix as a SymPy Matrix object"
      ]
    },
    {
      "cell_type": "code",
      "execution_count": 35,
      "metadata": {
        "id": "1A124gzAYpHZ"
      },
      "outputs": [],
      "source": [
        "# def generate_vectors(rref_matrix, pivot_columns):\n",
        "#     # Check if the system is inconsistent\n",
        "#     if any(all(rref_matrix[i, j] == 0 for j in range(rref_matrix.shape[1] - 1)) and rref_matrix[i, -1] != 0 for i in range(rref_matrix.shape[0])):\n",
        "#         return []\n",
        "\n",
        "#     # Handle single row case\n",
        "#     if rref_matrix.shape[0] == 1:\n",
        "#         return [rref_matrix[:, :-1]]\n",
        "\n",
        "#     free_columns = [rref_matrix[:, i] for i in range(rref_matrix.shape[1]) if i not in pivot_columns]\n",
        "\n",
        "#     for i in range(len(free_columns) - 1):\n",
        "#         free_columns[i] = free_columns[i].applyfunc(lambda x: -x)\n",
        "\n",
        "#     for idx in range(len(free_columns) - 2):\n",
        "#         free_columns[idx][idx + 1, 0] = 1\n",
        "\n",
        "#     return free_columns\n",
        "\n",
        "\n",
        "def generate_vectors(rref_matrix, pivot_columns):\n",
        "    # Check if the system is inconsistent\n",
        "    if any(all(rref_matrix[i, j] == 0 for j in range(rref_matrix.shape[1] - 1)) and rref_matrix[i, -1] != 0 for i in range(rref_matrix.shape[0])):\n",
        "        return []\n",
        "\n",
        "    # Handle single row case or unique solution case\n",
        "    if rref_matrix.shape[0] == rref_matrix.shape[1] - 1:\n",
        "        return [rref_matrix[:, -1]]  # Return the solution column\n",
        "\n",
        "    free_columns = [rref_matrix[:, i] for i in range(rref_matrix.shape[1]) if i not in pivot_columns]\n",
        "\n",
        "    for i in range(len(free_columns) - 1):\n",
        "        free_columns[i] = free_columns[i].applyfunc(lambda x: -x)\n",
        "\n",
        "    for idx in range(len(free_columns) - 2):\n",
        "        free_columns[idx][idx + 1, 0] = 1\n",
        "\n",
        "    return free_columns\n"
      ]
    },
    {
      "cell_type": "code",
      "execution_count": 36,
      "metadata": {
        "id": "o_ciMzu6YpHZ"
      },
      "outputs": [],
      "source": [
        "def describe_solution(vectors):\n",
        "    print(\"\\nThe solution spans the following vector(s):\\n\")\n",
        "    for vector in vectors:\n",
        "        print(vector)"
      ]
    },
    {
      "cell_type": "code",
      "execution_count": 37,
      "metadata": {
        "id": "nHYYMtvsYpHZ"
      },
      "outputs": [],
      "source": [
        "# # def plot_solution_set(vectors):\n",
        "# #     vector_count = len(vectors)\n",
        "\n",
        "# #     if vector_count == 2:\n",
        "# #         print(\"The solution set forms a line.\\n\")\n",
        "# #         plot_line(vectors)\n",
        "# #     elif vector_count == 3:\n",
        "# #         print(\"The solution set forms a plane.\\n\")\n",
        "# #         plot_plane(vectors)\n",
        "\n",
        "# #     describe_solution(vectors)\n",
        "\n",
        "# def plot_solution_set(vectors):\n",
        "#     vector_count = len(vectors)\n",
        "\n",
        "#     if vector_count == 0:\n",
        "#         print(\"The system has no solutions (it is inconsistent).\\n\")\n",
        "#         return\n",
        "\n",
        "#     if vector_count == 2:\n",
        "#         print(\"The solution set forms a line.\\n\")\n",
        "#         plot_line(vectors)\n",
        "#     elif vector_count == 3:\n",
        "#         print(\"The solution set forms a plane.\\n\")\n",
        "#         plot_plane(vectors)\n",
        "\n",
        "#     describe_solution(vectors)\n",
        "\n",
        "\n",
        "def plot_solution_set(vectors):\n",
        "    vector_count = len(vectors)\n",
        "\n",
        "    if vector_count == 0:\n",
        "        print(\"The system has no solutions (it is inconsistent).\\n\")\n",
        "        return\n",
        "\n",
        "    if vector_count == 1:\n",
        "        print(\"The solution set forms a unique point.\\n\")\n",
        "        plot_point(vectors[0])\n",
        "    elif vector_count == 2:\n",
        "        print(\"The solution set forms a line.\\n\")\n",
        "        plot_line(vectors)\n",
        "    elif vector_count == 3:\n",
        "        print(\"The solution set forms a plane.\\n\")\n",
        "        plot_plane(vectors)\n",
        "\n",
        "    describe_solution(vectors)\n"
      ]
    },
    {
      "cell_type": "code",
      "source": [
        "def plot_point(vector):\n",
        "    array = np.array(vector).astype(np.float64).flatten()\n",
        "\n",
        "    fig = go.Figure()\n",
        "\n",
        "    fig.add_trace(go.Scatter3d(\n",
        "        x=[array[0]],\n",
        "        y=[array[1]],\n",
        "        z=[array[2]],\n",
        "        mode='markers',\n",
        "        marker=dict(size=5),\n",
        "        name='Unique Solution'\n",
        "    ))\n",
        "\n",
        "    fig.show()"
      ],
      "metadata": {
        "id": "eovtU84MllaN"
      },
      "execution_count": 38,
      "outputs": []
    },
    {
      "cell_type": "code",
      "source": [
        "def plot_line(vectors):\n",
        "    arrays = [np.array(vector).astype(np.float64).flatten() for vector in vectors]\n",
        "    direction_vector = arrays[0]\n",
        "    translation_vector = arrays[1]\n",
        "\n",
        "    t = np.linspace(-10, 10, 100)\n",
        "    line_points = np.outer(t, direction_vector).T  # Transpose to get points in columns\n",
        "\n",
        "    fig = go.Figure()\n",
        "\n",
        "    fig.add_trace(go.Scatter3d(\n",
        "        x=line_points[0],\n",
        "        y=line_points[1],\n",
        "        z=line_points[2],\n",
        "        mode='lines',\n",
        "        name='Direction Line'\n",
        "    ))\n",
        "\n",
        "    # Ensure translation_vector is broadcastable with line_points\n",
        "    translated_points = line_points + translation_vector[:, np.newaxis]  # Adding new axis for broadcasting\n",
        "    fig.add_trace(go.Scatter3d(\n",
        "        x=translated_points[0],\n",
        "        y=translated_points[1],\n",
        "        z=translated_points[2],\n",
        "        mode='lines',\n",
        "        name='Translated Line'\n",
        "    ))\n",
        "\n",
        "    fig.show()\n"
      ],
      "metadata": {
        "id": "PjrD1LljZBsq"
      },
      "execution_count": 39,
      "outputs": []
    },
    {
      "cell_type": "code",
      "execution_count": 40,
      "metadata": {
        "id": "nPoMoxVPYpHZ"
      },
      "outputs": [],
      "source": [
        "# def plot_line(vectors):\n",
        "#     arrays = [np.array(vector).astype(np.float64) for vector in vectors]\n",
        "#     direction_vector = arrays[0]\n",
        "#     translation_vector = arrays[1]\n",
        "\n",
        "#     t = np.linspace(-10, 10, 100)\n",
        "#     line_points = np.outer(t, direction_vector)\n",
        "\n",
        "#     fig = go.Figure()\n",
        "\n",
        "#     fig.add_trace(go.Scatter3d(\n",
        "#         x=line_points[:, 0],\n",
        "#         y=line_points[:, 1],\n",
        "#         z=line_points[:, 2],\n",
        "#         mode='lines',\n",
        "#         name='Direction Line'\n",
        "#     ))\n",
        "\n",
        "#     translated_points = line_points + translation_vector\n",
        "#     fig.add_trace(go.Scatter3d(\n",
        "#         x=translated_points[:, 0],\n",
        "#         y=translated_points[:, 1],\n",
        "#         z=translated_points[:, 2],\n",
        "#         mode='lines',\n",
        "#         name='Translated Line'\n",
        "#     ))\n",
        "\n",
        "#     fig.show()"
      ]
    },
    {
      "cell_type": "code",
      "execution_count": 41,
      "metadata": {
        "id": "lRU1BVX-YpHZ"
      },
      "outputs": [],
      "source": [
        "def plot_plane(vectors):\n",
        "    arrays = [np.array(vector).astype(np.float64) for vector in vectors]\n",
        "    x_vector, y_vector, translation_vector = arrays\n",
        "\n",
        "    x_range = np.linspace(-10, 10, 20)\n",
        "    y_range = np.linspace(-10, 10, 20)\n",
        "    X, Y = np.meshgrid(x_range, y_range)\n",
        "    Z = 2 * X + 3 * Y\n",
        "\n",
        "    fig = go.Figure()\n",
        "\n",
        "    fig.add_trace(go.Surface(\n",
        "        x=X, y=Y, z=Z,\n",
        "        colorscale='Viridis',\n",
        "        name='Original Plane'\n",
        "    ))\n",
        "\n",
        "    translated_Z = Z + translation_vector[2]\n",
        "    fig.add_trace(go.Surface(\n",
        "        x=X, y=Y, z=translated_Z,\n",
        "        colorscale='Blues',\n",
        "        name='Translated Plane'\n",
        "    ))\n",
        "\n",
        "    fig.update_layout(scene=dict(aspectmode=\"cube\"))\n",
        "    fig.show()"
      ]
    },
    {
      "cell_type": "code",
      "execution_count": 26,
      "metadata": {
        "id": "aCnZBXT4YpHZ",
        "outputId": "dbcfeb4c-a1a7-41b0-e911-0324c969a039",
        "colab": {
          "base_uri": "https://localhost:8080/",
          "height": 339
        }
      },
      "outputs": [
        {
          "output_type": "stream",
          "name": "stdout",
          "text": [
            "Enter the dimensions of the matrix:\n"
          ]
        },
        {
          "output_type": "error",
          "ename": "KeyboardInterrupt",
          "evalue": "Interrupted by user",
          "traceback": [
            "\u001b[0;31m---------------------------------------------------------------------------\u001b[0m",
            "\u001b[0;31mKeyboardInterrupt\u001b[0m                         Traceback (most recent call last)",
            "\u001b[0;32m<ipython-input-26-d5fe85e2cc68>\u001b[0m in \u001b[0;36m<cell line: 7>\u001b[0;34m()\u001b[0m\n\u001b[1;32m      6\u001b[0m \u001b[0;34m\u001b[0m\u001b[0m\n\u001b[1;32m      7\u001b[0m \u001b[0;32mif\u001b[0m \u001b[0m__name__\u001b[0m \u001b[0;34m==\u001b[0m \u001b[0;34m\"__main__\"\u001b[0m\u001b[0;34m:\u001b[0m\u001b[0;34m\u001b[0m\u001b[0;34m\u001b[0m\u001b[0m\n\u001b[0;32m----> 8\u001b[0;31m     \u001b[0mmain\u001b[0m\u001b[0;34m(\u001b[0m\u001b[0;34m)\u001b[0m\u001b[0;34m\u001b[0m\u001b[0;34m\u001b[0m\u001b[0m\n\u001b[0m",
            "\u001b[0;32m<ipython-input-26-d5fe85e2cc68>\u001b[0m in \u001b[0;36mmain\u001b[0;34m()\u001b[0m\n\u001b[1;32m      1\u001b[0m \u001b[0;32mdef\u001b[0m \u001b[0mmain\u001b[0m\u001b[0;34m(\u001b[0m\u001b[0;34m)\u001b[0m\u001b[0;34m:\u001b[0m\u001b[0;34m\u001b[0m\u001b[0;34m\u001b[0m\u001b[0m\n\u001b[0;32m----> 2\u001b[0;31m     \u001b[0mmatrix\u001b[0m \u001b[0;34m=\u001b[0m \u001b[0mcreate_matrix\u001b[0m\u001b[0;34m(\u001b[0m\u001b[0;34m)\u001b[0m\u001b[0;34m\u001b[0m\u001b[0;34m\u001b[0m\u001b[0m\n\u001b[0m\u001b[1;32m      3\u001b[0m     \u001b[0mrref_matrix\u001b[0m\u001b[0;34m,\u001b[0m \u001b[0mpivot_columns\u001b[0m \u001b[0;34m=\u001b[0m \u001b[0mmatrix\u001b[0m\u001b[0;34m.\u001b[0m\u001b[0mrref\u001b[0m\u001b[0;34m(\u001b[0m\u001b[0;34m)\u001b[0m\u001b[0;34m\u001b[0m\u001b[0;34m\u001b[0m\u001b[0m\n\u001b[1;32m      4\u001b[0m     \u001b[0mvectors\u001b[0m \u001b[0;34m=\u001b[0m \u001b[0mgenerate_vectors\u001b[0m\u001b[0;34m(\u001b[0m\u001b[0mrref_matrix\u001b[0m\u001b[0;34m,\u001b[0m \u001b[0mpivot_columns\u001b[0m\u001b[0;34m)\u001b[0m\u001b[0;34m\u001b[0m\u001b[0;34m\u001b[0m\u001b[0m\n\u001b[1;32m      5\u001b[0m     \u001b[0mplot_solution_set\u001b[0m\u001b[0;34m(\u001b[0m\u001b[0mvectors\u001b[0m\u001b[0;34m)\u001b[0m\u001b[0;34m\u001b[0m\u001b[0;34m\u001b[0m\u001b[0m\n",
            "\u001b[0;32m<ipython-input-19-16425fece7f9>\u001b[0m in \u001b[0;36mcreate_matrix\u001b[0;34m()\u001b[0m\n\u001b[1;32m      6\u001b[0m     \u001b[0;31m# Get number of rows and columns from user input\u001b[0m\u001b[0;34m\u001b[0m\u001b[0;34m\u001b[0m\u001b[0m\n\u001b[1;32m      7\u001b[0m     \u001b[0mprint\u001b[0m\u001b[0;34m(\u001b[0m\u001b[0;34m\"Enter the dimensions of the matrix:\"\u001b[0m\u001b[0;34m)\u001b[0m\u001b[0;34m\u001b[0m\u001b[0;34m\u001b[0m\u001b[0m\n\u001b[0;32m----> 8\u001b[0;31m     \u001b[0mrows\u001b[0m \u001b[0;34m=\u001b[0m \u001b[0mint\u001b[0m\u001b[0;34m(\u001b[0m\u001b[0minput\u001b[0m\u001b[0;34m(\u001b[0m\u001b[0;34m\"Enter the number of rows: \"\u001b[0m\u001b[0;34m)\u001b[0m\u001b[0;34m)\u001b[0m\u001b[0;34m\u001b[0m\u001b[0;34m\u001b[0m\u001b[0m\n\u001b[0m\u001b[1;32m      9\u001b[0m     \u001b[0mcols\u001b[0m \u001b[0;34m=\u001b[0m \u001b[0mint\u001b[0m\u001b[0;34m(\u001b[0m\u001b[0minput\u001b[0m\u001b[0;34m(\u001b[0m\u001b[0;34m\"Enter the number of columns (including the augmented column): \"\u001b[0m\u001b[0;34m)\u001b[0m\u001b[0;34m)\u001b[0m\u001b[0;34m\u001b[0m\u001b[0;34m\u001b[0m\u001b[0m\n\u001b[1;32m     10\u001b[0m \u001b[0;34m\u001b[0m\u001b[0m\n",
            "\u001b[0;32m/usr/local/lib/python3.10/dist-packages/ipykernel/kernelbase.py\u001b[0m in \u001b[0;36mraw_input\u001b[0;34m(self, prompt)\u001b[0m\n\u001b[1;32m    849\u001b[0m                 \u001b[0;34m\"raw_input was called, but this frontend does not support input requests.\"\u001b[0m\u001b[0;34m\u001b[0m\u001b[0;34m\u001b[0m\u001b[0m\n\u001b[1;32m    850\u001b[0m             )\n\u001b[0;32m--> 851\u001b[0;31m         return self._input_request(str(prompt),\n\u001b[0m\u001b[1;32m    852\u001b[0m             \u001b[0mself\u001b[0m\u001b[0;34m.\u001b[0m\u001b[0m_parent_ident\u001b[0m\u001b[0;34m,\u001b[0m\u001b[0;34m\u001b[0m\u001b[0;34m\u001b[0m\u001b[0m\n\u001b[1;32m    853\u001b[0m             \u001b[0mself\u001b[0m\u001b[0;34m.\u001b[0m\u001b[0m_parent_header\u001b[0m\u001b[0;34m,\u001b[0m\u001b[0;34m\u001b[0m\u001b[0;34m\u001b[0m\u001b[0m\n",
            "\u001b[0;32m/usr/local/lib/python3.10/dist-packages/ipykernel/kernelbase.py\u001b[0m in \u001b[0;36m_input_request\u001b[0;34m(self, prompt, ident, parent, password)\u001b[0m\n\u001b[1;32m    893\u001b[0m             \u001b[0;32mexcept\u001b[0m \u001b[0mKeyboardInterrupt\u001b[0m\u001b[0;34m:\u001b[0m\u001b[0;34m\u001b[0m\u001b[0;34m\u001b[0m\u001b[0m\n\u001b[1;32m    894\u001b[0m                 \u001b[0;31m# re-raise KeyboardInterrupt, to truncate traceback\u001b[0m\u001b[0;34m\u001b[0m\u001b[0;34m\u001b[0m\u001b[0m\n\u001b[0;32m--> 895\u001b[0;31m                 \u001b[0;32mraise\u001b[0m \u001b[0mKeyboardInterrupt\u001b[0m\u001b[0;34m(\u001b[0m\u001b[0;34m\"Interrupted by user\"\u001b[0m\u001b[0;34m)\u001b[0m \u001b[0;32mfrom\u001b[0m \u001b[0;32mNone\u001b[0m\u001b[0;34m\u001b[0m\u001b[0;34m\u001b[0m\u001b[0m\n\u001b[0m\u001b[1;32m    896\u001b[0m             \u001b[0;32mexcept\u001b[0m \u001b[0mException\u001b[0m \u001b[0;32mas\u001b[0m \u001b[0me\u001b[0m\u001b[0;34m:\u001b[0m\u001b[0;34m\u001b[0m\u001b[0;34m\u001b[0m\u001b[0m\n\u001b[1;32m    897\u001b[0m                 \u001b[0mself\u001b[0m\u001b[0;34m.\u001b[0m\u001b[0mlog\u001b[0m\u001b[0;34m.\u001b[0m\u001b[0mwarning\u001b[0m\u001b[0;34m(\u001b[0m\u001b[0;34m\"Invalid Message:\"\u001b[0m\u001b[0;34m,\u001b[0m \u001b[0mexc_info\u001b[0m\u001b[0;34m=\u001b[0m\u001b[0;32mTrue\u001b[0m\u001b[0;34m)\u001b[0m\u001b[0;34m\u001b[0m\u001b[0;34m\u001b[0m\u001b[0m\n",
            "\u001b[0;31mKeyboardInterrupt\u001b[0m: Interrupted by user"
          ]
        }
      ],
      "source": [
        "def main():\n",
        "    matrix = create_matrix()\n",
        "    rref_matrix, pivot_columns = matrix.rref()\n",
        "    vectors = generate_vectors(rref_matrix, pivot_columns)\n",
        "    plot_solution_set(vectors)\n",
        "\n",
        "if __name__ == \"__main__\":\n",
        "    main()"
      ]
    },
    {
      "cell_type": "code",
      "execution_count": 42,
      "metadata": {
        "id": "AFC4O--VYpHa",
        "outputId": "55bebda1-5508-4375-ca97-4f16d5d182a5",
        "colab": {
          "base_uri": "https://localhost:8080/",
          "height": 646
        }
      },
      "outputs": [
        {
          "output_type": "stream",
          "name": "stdout",
          "text": [
            "The solution set forms a unique point.\n",
            "\n"
          ]
        },
        {
          "output_type": "display_data",
          "data": {
            "text/html": [
              "<html>\n",
              "<head><meta charset=\"utf-8\" /></head>\n",
              "<body>\n",
              "    <div>            <script src=\"https://cdnjs.cloudflare.com/ajax/libs/mathjax/2.7.5/MathJax.js?config=TeX-AMS-MML_SVG\"></script><script type=\"text/javascript\">if (window.MathJax && window.MathJax.Hub && window.MathJax.Hub.Config) {window.MathJax.Hub.Config({SVG: {font: \"STIX-Web\"}});}</script>                <script type=\"text/javascript\">window.PlotlyConfig = {MathJaxConfig: 'local'};</script>\n",
              "        <script charset=\"utf-8\" src=\"https://cdn.plot.ly/plotly-2.24.1.min.js\"></script>                <div id=\"2b8bd350-f9ac-4d13-8d7a-64c47b8887c0\" class=\"plotly-graph-div\" style=\"height:525px; width:100%;\"></div>            <script type=\"text/javascript\">                                    window.PLOTLYENV=window.PLOTLYENV || {};                                    if (document.getElementById(\"2b8bd350-f9ac-4d13-8d7a-64c47b8887c0\")) {                    Plotly.newPlot(                        \"2b8bd350-f9ac-4d13-8d7a-64c47b8887c0\",                        [{\"marker\":{\"size\":5},\"mode\":\"markers\",\"name\":\"Unique Solution\",\"x\":[4.0],\"y\":[1.5],\"z\":[0.5],\"type\":\"scatter3d\"}],                        {\"template\":{\"data\":{\"histogram2dcontour\":[{\"type\":\"histogram2dcontour\",\"colorbar\":{\"outlinewidth\":0,\"ticks\":\"\"},\"colorscale\":[[0.0,\"#0d0887\"],[0.1111111111111111,\"#46039f\"],[0.2222222222222222,\"#7201a8\"],[0.3333333333333333,\"#9c179e\"],[0.4444444444444444,\"#bd3786\"],[0.5555555555555556,\"#d8576b\"],[0.6666666666666666,\"#ed7953\"],[0.7777777777777778,\"#fb9f3a\"],[0.8888888888888888,\"#fdca26\"],[1.0,\"#f0f921\"]]}],\"choropleth\":[{\"type\":\"choropleth\",\"colorbar\":{\"outlinewidth\":0,\"ticks\":\"\"}}],\"histogram2d\":[{\"type\":\"histogram2d\",\"colorbar\":{\"outlinewidth\":0,\"ticks\":\"\"},\"colorscale\":[[0.0,\"#0d0887\"],[0.1111111111111111,\"#46039f\"],[0.2222222222222222,\"#7201a8\"],[0.3333333333333333,\"#9c179e\"],[0.4444444444444444,\"#bd3786\"],[0.5555555555555556,\"#d8576b\"],[0.6666666666666666,\"#ed7953\"],[0.7777777777777778,\"#fb9f3a\"],[0.8888888888888888,\"#fdca26\"],[1.0,\"#f0f921\"]]}],\"heatmap\":[{\"type\":\"heatmap\",\"colorbar\":{\"outlinewidth\":0,\"ticks\":\"\"},\"colorscale\":[[0.0,\"#0d0887\"],[0.1111111111111111,\"#46039f\"],[0.2222222222222222,\"#7201a8\"],[0.3333333333333333,\"#9c179e\"],[0.4444444444444444,\"#bd3786\"],[0.5555555555555556,\"#d8576b\"],[0.6666666666666666,\"#ed7953\"],[0.7777777777777778,\"#fb9f3a\"],[0.8888888888888888,\"#fdca26\"],[1.0,\"#f0f921\"]]}],\"heatmapgl\":[{\"type\":\"heatmapgl\",\"colorbar\":{\"outlinewidth\":0,\"ticks\":\"\"},\"colorscale\":[[0.0,\"#0d0887\"],[0.1111111111111111,\"#46039f\"],[0.2222222222222222,\"#7201a8\"],[0.3333333333333333,\"#9c179e\"],[0.4444444444444444,\"#bd3786\"],[0.5555555555555556,\"#d8576b\"],[0.6666666666666666,\"#ed7953\"],[0.7777777777777778,\"#fb9f3a\"],[0.8888888888888888,\"#fdca26\"],[1.0,\"#f0f921\"]]}],\"contourcarpet\":[{\"type\":\"contourcarpet\",\"colorbar\":{\"outlinewidth\":0,\"ticks\":\"\"}}],\"contour\":[{\"type\":\"contour\",\"colorbar\":{\"outlinewidth\":0,\"ticks\":\"\"},\"colorscale\":[[0.0,\"#0d0887\"],[0.1111111111111111,\"#46039f\"],[0.2222222222222222,\"#7201a8\"],[0.3333333333333333,\"#9c179e\"],[0.4444444444444444,\"#bd3786\"],[0.5555555555555556,\"#d8576b\"],[0.6666666666666666,\"#ed7953\"],[0.7777777777777778,\"#fb9f3a\"],[0.8888888888888888,\"#fdca26\"],[1.0,\"#f0f921\"]]}],\"surface\":[{\"type\":\"surface\",\"colorbar\":{\"outlinewidth\":0,\"ticks\":\"\"},\"colorscale\":[[0.0,\"#0d0887\"],[0.1111111111111111,\"#46039f\"],[0.2222222222222222,\"#7201a8\"],[0.3333333333333333,\"#9c179e\"],[0.4444444444444444,\"#bd3786\"],[0.5555555555555556,\"#d8576b\"],[0.6666666666666666,\"#ed7953\"],[0.7777777777777778,\"#fb9f3a\"],[0.8888888888888888,\"#fdca26\"],[1.0,\"#f0f921\"]]}],\"mesh3d\":[{\"type\":\"mesh3d\",\"colorbar\":{\"outlinewidth\":0,\"ticks\":\"\"}}],\"scatter\":[{\"fillpattern\":{\"fillmode\":\"overlay\",\"size\":10,\"solidity\":0.2},\"type\":\"scatter\"}],\"parcoords\":[{\"type\":\"parcoords\",\"line\":{\"colorbar\":{\"outlinewidth\":0,\"ticks\":\"\"}}}],\"scatterpolargl\":[{\"type\":\"scatterpolargl\",\"marker\":{\"colorbar\":{\"outlinewidth\":0,\"ticks\":\"\"}}}],\"bar\":[{\"error_x\":{\"color\":\"#2a3f5f\"},\"error_y\":{\"color\":\"#2a3f5f\"},\"marker\":{\"line\":{\"color\":\"#E5ECF6\",\"width\":0.5},\"pattern\":{\"fillmode\":\"overlay\",\"size\":10,\"solidity\":0.2}},\"type\":\"bar\"}],\"scattergeo\":[{\"type\":\"scattergeo\",\"marker\":{\"colorbar\":{\"outlinewidth\":0,\"ticks\":\"\"}}}],\"scatterpolar\":[{\"type\":\"scatterpolar\",\"marker\":{\"colorbar\":{\"outlinewidth\":0,\"ticks\":\"\"}}}],\"histogram\":[{\"marker\":{\"pattern\":{\"fillmode\":\"overlay\",\"size\":10,\"solidity\":0.2}},\"type\":\"histogram\"}],\"scattergl\":[{\"type\":\"scattergl\",\"marker\":{\"colorbar\":{\"outlinewidth\":0,\"ticks\":\"\"}}}],\"scatter3d\":[{\"type\":\"scatter3d\",\"line\":{\"colorbar\":{\"outlinewidth\":0,\"ticks\":\"\"}},\"marker\":{\"colorbar\":{\"outlinewidth\":0,\"ticks\":\"\"}}}],\"scattermapbox\":[{\"type\":\"scattermapbox\",\"marker\":{\"colorbar\":{\"outlinewidth\":0,\"ticks\":\"\"}}}],\"scatterternary\":[{\"type\":\"scatterternary\",\"marker\":{\"colorbar\":{\"outlinewidth\":0,\"ticks\":\"\"}}}],\"scattercarpet\":[{\"type\":\"scattercarpet\",\"marker\":{\"colorbar\":{\"outlinewidth\":0,\"ticks\":\"\"}}}],\"carpet\":[{\"aaxis\":{\"endlinecolor\":\"#2a3f5f\",\"gridcolor\":\"white\",\"linecolor\":\"white\",\"minorgridcolor\":\"white\",\"startlinecolor\":\"#2a3f5f\"},\"baxis\":{\"endlinecolor\":\"#2a3f5f\",\"gridcolor\":\"white\",\"linecolor\":\"white\",\"minorgridcolor\":\"white\",\"startlinecolor\":\"#2a3f5f\"},\"type\":\"carpet\"}],\"table\":[{\"cells\":{\"fill\":{\"color\":\"#EBF0F8\"},\"line\":{\"color\":\"white\"}},\"header\":{\"fill\":{\"color\":\"#C8D4E3\"},\"line\":{\"color\":\"white\"}},\"type\":\"table\"}],\"barpolar\":[{\"marker\":{\"line\":{\"color\":\"#E5ECF6\",\"width\":0.5},\"pattern\":{\"fillmode\":\"overlay\",\"size\":10,\"solidity\":0.2}},\"type\":\"barpolar\"}],\"pie\":[{\"automargin\":true,\"type\":\"pie\"}]},\"layout\":{\"autotypenumbers\":\"strict\",\"colorway\":[\"#636efa\",\"#EF553B\",\"#00cc96\",\"#ab63fa\",\"#FFA15A\",\"#19d3f3\",\"#FF6692\",\"#B6E880\",\"#FF97FF\",\"#FECB52\"],\"font\":{\"color\":\"#2a3f5f\"},\"hovermode\":\"closest\",\"hoverlabel\":{\"align\":\"left\"},\"paper_bgcolor\":\"white\",\"plot_bgcolor\":\"#E5ECF6\",\"polar\":{\"bgcolor\":\"#E5ECF6\",\"angularaxis\":{\"gridcolor\":\"white\",\"linecolor\":\"white\",\"ticks\":\"\"},\"radialaxis\":{\"gridcolor\":\"white\",\"linecolor\":\"white\",\"ticks\":\"\"}},\"ternary\":{\"bgcolor\":\"#E5ECF6\",\"aaxis\":{\"gridcolor\":\"white\",\"linecolor\":\"white\",\"ticks\":\"\"},\"baxis\":{\"gridcolor\":\"white\",\"linecolor\":\"white\",\"ticks\":\"\"},\"caxis\":{\"gridcolor\":\"white\",\"linecolor\":\"white\",\"ticks\":\"\"}},\"coloraxis\":{\"colorbar\":{\"outlinewidth\":0,\"ticks\":\"\"}},\"colorscale\":{\"sequential\":[[0.0,\"#0d0887\"],[0.1111111111111111,\"#46039f\"],[0.2222222222222222,\"#7201a8\"],[0.3333333333333333,\"#9c179e\"],[0.4444444444444444,\"#bd3786\"],[0.5555555555555556,\"#d8576b\"],[0.6666666666666666,\"#ed7953\"],[0.7777777777777778,\"#fb9f3a\"],[0.8888888888888888,\"#fdca26\"],[1.0,\"#f0f921\"]],\"sequentialminus\":[[0.0,\"#0d0887\"],[0.1111111111111111,\"#46039f\"],[0.2222222222222222,\"#7201a8\"],[0.3333333333333333,\"#9c179e\"],[0.4444444444444444,\"#bd3786\"],[0.5555555555555556,\"#d8576b\"],[0.6666666666666666,\"#ed7953\"],[0.7777777777777778,\"#fb9f3a\"],[0.8888888888888888,\"#fdca26\"],[1.0,\"#f0f921\"]],\"diverging\":[[0,\"#8e0152\"],[0.1,\"#c51b7d\"],[0.2,\"#de77ae\"],[0.3,\"#f1b6da\"],[0.4,\"#fde0ef\"],[0.5,\"#f7f7f7\"],[0.6,\"#e6f5d0\"],[0.7,\"#b8e186\"],[0.8,\"#7fbc41\"],[0.9,\"#4d9221\"],[1,\"#276419\"]]},\"xaxis\":{\"gridcolor\":\"white\",\"linecolor\":\"white\",\"ticks\":\"\",\"title\":{\"standoff\":15},\"zerolinecolor\":\"white\",\"automargin\":true,\"zerolinewidth\":2},\"yaxis\":{\"gridcolor\":\"white\",\"linecolor\":\"white\",\"ticks\":\"\",\"title\":{\"standoff\":15},\"zerolinecolor\":\"white\",\"automargin\":true,\"zerolinewidth\":2},\"scene\":{\"xaxis\":{\"backgroundcolor\":\"#E5ECF6\",\"gridcolor\":\"white\",\"linecolor\":\"white\",\"showbackground\":true,\"ticks\":\"\",\"zerolinecolor\":\"white\",\"gridwidth\":2},\"yaxis\":{\"backgroundcolor\":\"#E5ECF6\",\"gridcolor\":\"white\",\"linecolor\":\"white\",\"showbackground\":true,\"ticks\":\"\",\"zerolinecolor\":\"white\",\"gridwidth\":2},\"zaxis\":{\"backgroundcolor\":\"#E5ECF6\",\"gridcolor\":\"white\",\"linecolor\":\"white\",\"showbackground\":true,\"ticks\":\"\",\"zerolinecolor\":\"white\",\"gridwidth\":2}},\"shapedefaults\":{\"line\":{\"color\":\"#2a3f5f\"}},\"annotationdefaults\":{\"arrowcolor\":\"#2a3f5f\",\"arrowhead\":0,\"arrowwidth\":1},\"geo\":{\"bgcolor\":\"white\",\"landcolor\":\"#E5ECF6\",\"subunitcolor\":\"white\",\"showland\":true,\"showlakes\":true,\"lakecolor\":\"white\"},\"title\":{\"x\":0.05},\"mapbox\":{\"style\":\"light\"}}}},                        {\"responsive\": true}                    ).then(function(){\n",
              "                            \n",
              "var gd = document.getElementById('2b8bd350-f9ac-4d13-8d7a-64c47b8887c0');\n",
              "var x = new MutationObserver(function (mutations, observer) {{\n",
              "        var display = window.getComputedStyle(gd).display;\n",
              "        if (!display || display === 'none') {{\n",
              "            console.log([gd, 'removed!']);\n",
              "            Plotly.purge(gd);\n",
              "            observer.disconnect();\n",
              "        }}\n",
              "}});\n",
              "\n",
              "// Listen for the removal of the full notebook cells\n",
              "var notebookContainer = gd.closest('#notebook-container');\n",
              "if (notebookContainer) {{\n",
              "    x.observe(notebookContainer, {childList: true});\n",
              "}}\n",
              "\n",
              "// Listen for the clearing of the current output cell\n",
              "var outputEl = gd.closest('.output');\n",
              "if (outputEl) {{\n",
              "    x.observe(outputEl, {childList: true});\n",
              "}}\n",
              "\n",
              "                        })                };                            </script>        </div>\n",
              "</body>\n",
              "</html>"
            ]
          },
          "metadata": {}
        },
        {
          "output_type": "stream",
          "name": "stdout",
          "text": [
            "\n",
            "The solution spans the following vector(s):\n",
            "\n",
            "Matrix([[4], [3/2], [1/2]])\n"
          ]
        }
      ],
      "source": [
        "def test_unique_solution():\n",
        "    input_matrix = sp.Matrix([\n",
        "        [1, 1, 1, 6],\n",
        "        [0, 1, -1, 1],\n",
        "        [2, -1, 1, 7]\n",
        "    ])\n",
        "    rref_matrix, pivot_columns = input_matrix.rref()\n",
        "    vectors = generate_vectors(rref_matrix, pivot_columns)\n",
        "    plot_solution_set(vectors)\n",
        "\n",
        "test_unique_solution()\n",
        "\n",
        "# unique solution is a line"
      ]
    },
    {
      "cell_type": "code",
      "execution_count": 28,
      "metadata": {
        "id": "wcoy8ydCYpHa",
        "outputId": "957d771f-46ba-435c-88c4-fdbb5b8fa8ae",
        "colab": {
          "base_uri": "https://localhost:8080/",
          "height": 681
        }
      },
      "outputs": [
        {
          "output_type": "stream",
          "name": "stdout",
          "text": [
            "The solution set forms a plane.\n",
            "\n"
          ]
        },
        {
          "output_type": "display_data",
          "data": {
            "text/html": [
              "<html>\n",
              "<head><meta charset=\"utf-8\" /></head>\n",
              "<body>\n",
              "    <div>            <script src=\"https://cdnjs.cloudflare.com/ajax/libs/mathjax/2.7.5/MathJax.js?config=TeX-AMS-MML_SVG\"></script><script type=\"text/javascript\">if (window.MathJax && window.MathJax.Hub && window.MathJax.Hub.Config) {window.MathJax.Hub.Config({SVG: {font: \"STIX-Web\"}});}</script>                <script type=\"text/javascript\">window.PlotlyConfig = {MathJaxConfig: 'local'};</script>\n",
              "        <script charset=\"utf-8\" src=\"https://cdn.plot.ly/plotly-2.24.1.min.js\"></script>                <div id=\"d6003efd-06a0-460f-917b-1b2ea4d7758d\" class=\"plotly-graph-div\" style=\"height:525px; width:100%;\"></div>            <script type=\"text/javascript\">                                    window.PLOTLYENV=window.PLOTLYENV || {};                                    if (document.getElementById(\"d6003efd-06a0-460f-917b-1b2ea4d7758d\")) {                    Plotly.newPlot(                        \"d6003efd-06a0-460f-917b-1b2ea4d7758d\",                        [{\"colorscale\":[[0.0,\"#440154\"],[0.1111111111111111,\"#482878\"],[0.2222222222222222,\"#3e4989\"],[0.3333333333333333,\"#31688e\"],[0.4444444444444444,\"#26828e\"],[0.5555555555555556,\"#1f9e89\"],[0.6666666666666666,\"#35b779\"],[0.7777777777777778,\"#6ece58\"],[0.8888888888888888,\"#b5de2b\"],[1.0,\"#fde725\"]],\"name\":\"Original Plane\",\"x\":[[-10.0,-8.947368421052632,-7.894736842105264,-6.842105263157895,-5.7894736842105265,-4.736842105263158,-3.6842105263157894,-2.6315789473684212,-1.578947368421053,-0.526315789473685,0.5263157894736832,1.5789473684210513,2.6315789473684212,3.6842105263157894,4.7368421052631575,5.789473684210526,6.842105263157894,7.894736842105264,8.94736842105263,10.0],[-10.0,-8.947368421052632,-7.894736842105264,-6.842105263157895,-5.7894736842105265,-4.736842105263158,-3.6842105263157894,-2.6315789473684212,-1.578947368421053,-0.526315789473685,0.5263157894736832,1.5789473684210513,2.6315789473684212,3.6842105263157894,4.7368421052631575,5.789473684210526,6.842105263157894,7.894736842105264,8.94736842105263,10.0],[-10.0,-8.947368421052632,-7.894736842105264,-6.842105263157895,-5.7894736842105265,-4.736842105263158,-3.6842105263157894,-2.6315789473684212,-1.578947368421053,-0.526315789473685,0.5263157894736832,1.5789473684210513,2.6315789473684212,3.6842105263157894,4.7368421052631575,5.789473684210526,6.842105263157894,7.894736842105264,8.94736842105263,10.0],[-10.0,-8.947368421052632,-7.894736842105264,-6.842105263157895,-5.7894736842105265,-4.736842105263158,-3.6842105263157894,-2.6315789473684212,-1.578947368421053,-0.526315789473685,0.5263157894736832,1.5789473684210513,2.6315789473684212,3.6842105263157894,4.7368421052631575,5.789473684210526,6.842105263157894,7.894736842105264,8.94736842105263,10.0],[-10.0,-8.947368421052632,-7.894736842105264,-6.842105263157895,-5.7894736842105265,-4.736842105263158,-3.6842105263157894,-2.6315789473684212,-1.578947368421053,-0.526315789473685,0.5263157894736832,1.5789473684210513,2.6315789473684212,3.6842105263157894,4.7368421052631575,5.789473684210526,6.842105263157894,7.894736842105264,8.94736842105263,10.0],[-10.0,-8.947368421052632,-7.894736842105264,-6.842105263157895,-5.7894736842105265,-4.736842105263158,-3.6842105263157894,-2.6315789473684212,-1.578947368421053,-0.526315789473685,0.5263157894736832,1.5789473684210513,2.6315789473684212,3.6842105263157894,4.7368421052631575,5.789473684210526,6.842105263157894,7.894736842105264,8.94736842105263,10.0],[-10.0,-8.947368421052632,-7.894736842105264,-6.842105263157895,-5.7894736842105265,-4.736842105263158,-3.6842105263157894,-2.6315789473684212,-1.578947368421053,-0.526315789473685,0.5263157894736832,1.5789473684210513,2.6315789473684212,3.6842105263157894,4.7368421052631575,5.789473684210526,6.842105263157894,7.894736842105264,8.94736842105263,10.0],[-10.0,-8.947368421052632,-7.894736842105264,-6.842105263157895,-5.7894736842105265,-4.736842105263158,-3.6842105263157894,-2.6315789473684212,-1.578947368421053,-0.526315789473685,0.5263157894736832,1.5789473684210513,2.6315789473684212,3.6842105263157894,4.7368421052631575,5.789473684210526,6.842105263157894,7.894736842105264,8.94736842105263,10.0],[-10.0,-8.947368421052632,-7.894736842105264,-6.842105263157895,-5.7894736842105265,-4.736842105263158,-3.6842105263157894,-2.6315789473684212,-1.578947368421053,-0.526315789473685,0.5263157894736832,1.5789473684210513,2.6315789473684212,3.6842105263157894,4.7368421052631575,5.789473684210526,6.842105263157894,7.894736842105264,8.94736842105263,10.0],[-10.0,-8.947368421052632,-7.894736842105264,-6.842105263157895,-5.7894736842105265,-4.736842105263158,-3.6842105263157894,-2.6315789473684212,-1.578947368421053,-0.526315789473685,0.5263157894736832,1.5789473684210513,2.6315789473684212,3.6842105263157894,4.7368421052631575,5.789473684210526,6.842105263157894,7.894736842105264,8.94736842105263,10.0],[-10.0,-8.947368421052632,-7.894736842105264,-6.842105263157895,-5.7894736842105265,-4.736842105263158,-3.6842105263157894,-2.6315789473684212,-1.578947368421053,-0.526315789473685,0.5263157894736832,1.5789473684210513,2.6315789473684212,3.6842105263157894,4.7368421052631575,5.789473684210526,6.842105263157894,7.894736842105264,8.94736842105263,10.0],[-10.0,-8.947368421052632,-7.894736842105264,-6.842105263157895,-5.7894736842105265,-4.736842105263158,-3.6842105263157894,-2.6315789473684212,-1.578947368421053,-0.526315789473685,0.5263157894736832,1.5789473684210513,2.6315789473684212,3.6842105263157894,4.7368421052631575,5.789473684210526,6.842105263157894,7.894736842105264,8.94736842105263,10.0],[-10.0,-8.947368421052632,-7.894736842105264,-6.842105263157895,-5.7894736842105265,-4.736842105263158,-3.6842105263157894,-2.6315789473684212,-1.578947368421053,-0.526315789473685,0.5263157894736832,1.5789473684210513,2.6315789473684212,3.6842105263157894,4.7368421052631575,5.789473684210526,6.842105263157894,7.894736842105264,8.94736842105263,10.0],[-10.0,-8.947368421052632,-7.894736842105264,-6.842105263157895,-5.7894736842105265,-4.736842105263158,-3.6842105263157894,-2.6315789473684212,-1.578947368421053,-0.526315789473685,0.5263157894736832,1.5789473684210513,2.6315789473684212,3.6842105263157894,4.7368421052631575,5.789473684210526,6.842105263157894,7.894736842105264,8.94736842105263,10.0],[-10.0,-8.947368421052632,-7.894736842105264,-6.842105263157895,-5.7894736842105265,-4.736842105263158,-3.6842105263157894,-2.6315789473684212,-1.578947368421053,-0.526315789473685,0.5263157894736832,1.5789473684210513,2.6315789473684212,3.6842105263157894,4.7368421052631575,5.789473684210526,6.842105263157894,7.894736842105264,8.94736842105263,10.0],[-10.0,-8.947368421052632,-7.894736842105264,-6.842105263157895,-5.7894736842105265,-4.736842105263158,-3.6842105263157894,-2.6315789473684212,-1.578947368421053,-0.526315789473685,0.5263157894736832,1.5789473684210513,2.6315789473684212,3.6842105263157894,4.7368421052631575,5.789473684210526,6.842105263157894,7.894736842105264,8.94736842105263,10.0],[-10.0,-8.947368421052632,-7.894736842105264,-6.842105263157895,-5.7894736842105265,-4.736842105263158,-3.6842105263157894,-2.6315789473684212,-1.578947368421053,-0.526315789473685,0.5263157894736832,1.5789473684210513,2.6315789473684212,3.6842105263157894,4.7368421052631575,5.789473684210526,6.842105263157894,7.894736842105264,8.94736842105263,10.0],[-10.0,-8.947368421052632,-7.894736842105264,-6.842105263157895,-5.7894736842105265,-4.736842105263158,-3.6842105263157894,-2.6315789473684212,-1.578947368421053,-0.526315789473685,0.5263157894736832,1.5789473684210513,2.6315789473684212,3.6842105263157894,4.7368421052631575,5.789473684210526,6.842105263157894,7.894736842105264,8.94736842105263,10.0],[-10.0,-8.947368421052632,-7.894736842105264,-6.842105263157895,-5.7894736842105265,-4.736842105263158,-3.6842105263157894,-2.6315789473684212,-1.578947368421053,-0.526315789473685,0.5263157894736832,1.5789473684210513,2.6315789473684212,3.6842105263157894,4.7368421052631575,5.789473684210526,6.842105263157894,7.894736842105264,8.94736842105263,10.0],[-10.0,-8.947368421052632,-7.894736842105264,-6.842105263157895,-5.7894736842105265,-4.736842105263158,-3.6842105263157894,-2.6315789473684212,-1.578947368421053,-0.526315789473685,0.5263157894736832,1.5789473684210513,2.6315789473684212,3.6842105263157894,4.7368421052631575,5.789473684210526,6.842105263157894,7.894736842105264,8.94736842105263,10.0]],\"y\":[[-10.0,-10.0,-10.0,-10.0,-10.0,-10.0,-10.0,-10.0,-10.0,-10.0,-10.0,-10.0,-10.0,-10.0,-10.0,-10.0,-10.0,-10.0,-10.0,-10.0],[-8.947368421052632,-8.947368421052632,-8.947368421052632,-8.947368421052632,-8.947368421052632,-8.947368421052632,-8.947368421052632,-8.947368421052632,-8.947368421052632,-8.947368421052632,-8.947368421052632,-8.947368421052632,-8.947368421052632,-8.947368421052632,-8.947368421052632,-8.947368421052632,-8.947368421052632,-8.947368421052632,-8.947368421052632,-8.947368421052632],[-7.894736842105264,-7.894736842105264,-7.894736842105264,-7.894736842105264,-7.894736842105264,-7.894736842105264,-7.894736842105264,-7.894736842105264,-7.894736842105264,-7.894736842105264,-7.894736842105264,-7.894736842105264,-7.894736842105264,-7.894736842105264,-7.894736842105264,-7.894736842105264,-7.894736842105264,-7.894736842105264,-7.894736842105264,-7.894736842105264],[-6.842105263157895,-6.842105263157895,-6.842105263157895,-6.842105263157895,-6.842105263157895,-6.842105263157895,-6.842105263157895,-6.842105263157895,-6.842105263157895,-6.842105263157895,-6.842105263157895,-6.842105263157895,-6.842105263157895,-6.842105263157895,-6.842105263157895,-6.842105263157895,-6.842105263157895,-6.842105263157895,-6.842105263157895,-6.842105263157895],[-5.7894736842105265,-5.7894736842105265,-5.7894736842105265,-5.7894736842105265,-5.7894736842105265,-5.7894736842105265,-5.7894736842105265,-5.7894736842105265,-5.7894736842105265,-5.7894736842105265,-5.7894736842105265,-5.7894736842105265,-5.7894736842105265,-5.7894736842105265,-5.7894736842105265,-5.7894736842105265,-5.7894736842105265,-5.7894736842105265,-5.7894736842105265,-5.7894736842105265],[-4.736842105263158,-4.736842105263158,-4.736842105263158,-4.736842105263158,-4.736842105263158,-4.736842105263158,-4.736842105263158,-4.736842105263158,-4.736842105263158,-4.736842105263158,-4.736842105263158,-4.736842105263158,-4.736842105263158,-4.736842105263158,-4.736842105263158,-4.736842105263158,-4.736842105263158,-4.736842105263158,-4.736842105263158,-4.736842105263158],[-3.6842105263157894,-3.6842105263157894,-3.6842105263157894,-3.6842105263157894,-3.6842105263157894,-3.6842105263157894,-3.6842105263157894,-3.6842105263157894,-3.6842105263157894,-3.6842105263157894,-3.6842105263157894,-3.6842105263157894,-3.6842105263157894,-3.6842105263157894,-3.6842105263157894,-3.6842105263157894,-3.6842105263157894,-3.6842105263157894,-3.6842105263157894,-3.6842105263157894],[-2.6315789473684212,-2.6315789473684212,-2.6315789473684212,-2.6315789473684212,-2.6315789473684212,-2.6315789473684212,-2.6315789473684212,-2.6315789473684212,-2.6315789473684212,-2.6315789473684212,-2.6315789473684212,-2.6315789473684212,-2.6315789473684212,-2.6315789473684212,-2.6315789473684212,-2.6315789473684212,-2.6315789473684212,-2.6315789473684212,-2.6315789473684212,-2.6315789473684212],[-1.578947368421053,-1.578947368421053,-1.578947368421053,-1.578947368421053,-1.578947368421053,-1.578947368421053,-1.578947368421053,-1.578947368421053,-1.578947368421053,-1.578947368421053,-1.578947368421053,-1.578947368421053,-1.578947368421053,-1.578947368421053,-1.578947368421053,-1.578947368421053,-1.578947368421053,-1.578947368421053,-1.578947368421053,-1.578947368421053],[-0.526315789473685,-0.526315789473685,-0.526315789473685,-0.526315789473685,-0.526315789473685,-0.526315789473685,-0.526315789473685,-0.526315789473685,-0.526315789473685,-0.526315789473685,-0.526315789473685,-0.526315789473685,-0.526315789473685,-0.526315789473685,-0.526315789473685,-0.526315789473685,-0.526315789473685,-0.526315789473685,-0.526315789473685,-0.526315789473685],[0.5263157894736832,0.5263157894736832,0.5263157894736832,0.5263157894736832,0.5263157894736832,0.5263157894736832,0.5263157894736832,0.5263157894736832,0.5263157894736832,0.5263157894736832,0.5263157894736832,0.5263157894736832,0.5263157894736832,0.5263157894736832,0.5263157894736832,0.5263157894736832,0.5263157894736832,0.5263157894736832,0.5263157894736832,0.5263157894736832],[1.5789473684210513,1.5789473684210513,1.5789473684210513,1.5789473684210513,1.5789473684210513,1.5789473684210513,1.5789473684210513,1.5789473684210513,1.5789473684210513,1.5789473684210513,1.5789473684210513,1.5789473684210513,1.5789473684210513,1.5789473684210513,1.5789473684210513,1.5789473684210513,1.5789473684210513,1.5789473684210513,1.5789473684210513,1.5789473684210513],[2.6315789473684212,2.6315789473684212,2.6315789473684212,2.6315789473684212,2.6315789473684212,2.6315789473684212,2.6315789473684212,2.6315789473684212,2.6315789473684212,2.6315789473684212,2.6315789473684212,2.6315789473684212,2.6315789473684212,2.6315789473684212,2.6315789473684212,2.6315789473684212,2.6315789473684212,2.6315789473684212,2.6315789473684212,2.6315789473684212],[3.6842105263157894,3.6842105263157894,3.6842105263157894,3.6842105263157894,3.6842105263157894,3.6842105263157894,3.6842105263157894,3.6842105263157894,3.6842105263157894,3.6842105263157894,3.6842105263157894,3.6842105263157894,3.6842105263157894,3.6842105263157894,3.6842105263157894,3.6842105263157894,3.6842105263157894,3.6842105263157894,3.6842105263157894,3.6842105263157894],[4.7368421052631575,4.7368421052631575,4.7368421052631575,4.7368421052631575,4.7368421052631575,4.7368421052631575,4.7368421052631575,4.7368421052631575,4.7368421052631575,4.7368421052631575,4.7368421052631575,4.7368421052631575,4.7368421052631575,4.7368421052631575,4.7368421052631575,4.7368421052631575,4.7368421052631575,4.7368421052631575,4.7368421052631575,4.7368421052631575],[5.789473684210526,5.789473684210526,5.789473684210526,5.789473684210526,5.789473684210526,5.789473684210526,5.789473684210526,5.789473684210526,5.789473684210526,5.789473684210526,5.789473684210526,5.789473684210526,5.789473684210526,5.789473684210526,5.789473684210526,5.789473684210526,5.789473684210526,5.789473684210526,5.789473684210526,5.789473684210526],[6.842105263157894,6.842105263157894,6.842105263157894,6.842105263157894,6.842105263157894,6.842105263157894,6.842105263157894,6.842105263157894,6.842105263157894,6.842105263157894,6.842105263157894,6.842105263157894,6.842105263157894,6.842105263157894,6.842105263157894,6.842105263157894,6.842105263157894,6.842105263157894,6.842105263157894,6.842105263157894],[7.894736842105264,7.894736842105264,7.894736842105264,7.894736842105264,7.894736842105264,7.894736842105264,7.894736842105264,7.894736842105264,7.894736842105264,7.894736842105264,7.894736842105264,7.894736842105264,7.894736842105264,7.894736842105264,7.894736842105264,7.894736842105264,7.894736842105264,7.894736842105264,7.894736842105264,7.894736842105264],[8.94736842105263,8.94736842105263,8.94736842105263,8.94736842105263,8.94736842105263,8.94736842105263,8.94736842105263,8.94736842105263,8.94736842105263,8.94736842105263,8.94736842105263,8.94736842105263,8.94736842105263,8.94736842105263,8.94736842105263,8.94736842105263,8.94736842105263,8.94736842105263,8.94736842105263,8.94736842105263],[10.0,10.0,10.0,10.0,10.0,10.0,10.0,10.0,10.0,10.0,10.0,10.0,10.0,10.0,10.0,10.0,10.0,10.0,10.0,10.0]],\"z\":[[-50.0,-47.89473684210526,-45.78947368421053,-43.68421052631579,-41.578947368421055,-39.473684210526315,-37.368421052631575,-35.26315789473684,-33.15789473684211,-31.05263157894737,-28.947368421052634,-26.842105263157897,-24.736842105263158,-22.63157894736842,-20.526315789473685,-18.42105263157895,-16.315789473684212,-14.210526315789473,-12.10526315789474,-10.0],[-46.8421052631579,-44.736842105263165,-42.631578947368425,-40.526315789473685,-38.42105263157895,-36.31578947368421,-34.21052631578948,-32.10526315789474,-30.000000000000004,-27.894736842105267,-25.78947368421053,-23.684210526315795,-21.578947368421055,-19.47368421052632,-17.368421052631582,-15.263157894736846,-13.15789473684211,-11.05263157894737,-8.947368421052637,-6.842105263157897],[-43.684210526315795,-41.578947368421055,-39.473684210526315,-37.36842105263158,-35.26315789473684,-33.15789473684211,-31.05263157894737,-28.947368421052634,-26.842105263157897,-24.73684210526316,-22.631578947368425,-20.52631578947369,-18.42105263157895,-16.315789473684212,-14.210526315789476,-12.10526315789474,-10.000000000000004,-7.894736842105264,-5.789473684210531,-3.684210526315791],[-40.526315789473685,-38.421052631578945,-36.31578947368421,-34.21052631578947,-32.10526315789474,-30.0,-27.894736842105264,-25.789473684210527,-23.68421052631579,-21.578947368421055,-19.47368421052632,-17.368421052631582,-15.263157894736842,-13.157894736842106,-11.05263157894737,-8.947368421052634,-6.842105263157897,-4.7368421052631575,-2.631578947368425,-0.526315789473685],[-37.368421052631575,-35.26315789473684,-33.15789473684211,-31.05263157894737,-28.94736842105263,-26.842105263157897,-24.736842105263158,-22.63157894736842,-20.526315789473685,-18.42105263157895,-16.315789473684212,-14.210526315789476,-12.105263157894736,-10.0,-7.894736842105264,-5.789473684210527,-3.684210526315791,-1.5789473684210513,0.5263157894736814,2.6315789473684212],[-34.21052631578948,-32.10526315789474,-30.000000000000004,-27.894736842105267,-25.789473684210527,-23.684210526315795,-21.578947368421055,-19.47368421052632,-17.368421052631582,-15.263157894736846,-13.15789473684211,-11.052631578947373,-8.947368421052634,-6.842105263157897,-4.736842105263161,-2.631578947368425,-0.5263157894736885,1.5789473684210513,3.684210526315784,5.789473684210524],[-31.05263157894737,-28.94736842105263,-26.842105263157897,-24.736842105263158,-22.63157894736842,-20.526315789473685,-18.421052631578945,-16.315789473684212,-14.210526315789474,-12.105263157894738,-10.000000000000002,-7.8947368421052655,-5.789473684210526,-3.6842105263157894,-1.578947368421053,0.5263157894736832,2.6315789473684195,4.736842105263159,6.842105263157892,8.947368421052632],[-27.894736842105264,-25.789473684210527,-23.68421052631579,-21.578947368421055,-19.473684210526315,-17.368421052631582,-15.263157894736842,-13.157894736842106,-11.05263157894737,-8.947368421052634,-6.842105263157897,-4.736842105263161,-2.6315789473684212,-0.526315789473685,1.5789473684210513,3.6842105263157876,5.789473684210524,7.894736842105264,9.999999999999996,12.105263157894736],[-24.736842105263158,-22.631578947368425,-20.526315789473685,-18.42105263157895,-16.315789473684212,-14.210526315789476,-12.105263157894738,-10.000000000000002,-7.8947368421052655,-5.789473684210529,-3.684210526315793,-1.5789473684210567,0.5263157894736832,2.6315789473684195,4.736842105263156,6.842105263157892,8.947368421052628,11.052631578947368,13.1578947368421,15.26315789473684],[-21.578947368421055,-19.47368421052632,-17.368421052631582,-15.263157894736844,-13.157894736842108,-11.052631578947372,-8.947368421052634,-6.842105263157897,-4.736842105263161,-2.631578947368425,-0.5263157894736885,1.5789473684210478,3.6842105263157876,5.789473684210524,7.89473684210526,9.999999999999996,12.105263157894733,14.210526315789473,16.315789473684205,18.421052631578945],[-18.421052631578952,-16.315789473684212,-14.210526315789478,-12.10526315789474,-10.000000000000004,-7.894736842105267,-5.789473684210529,-3.684210526315793,-1.5789473684210567,0.5263157894736796,2.631578947368416,4.736842105263152,6.842105263157892,8.947368421052628,11.052631578947365,13.1578947368421,15.263157894736837,17.368421052631575,19.473684210526308,21.578947368421048],[-15.263157894736846,-13.15789473684211,-11.052631578947373,-8.947368421052635,-6.842105263157899,-4.736842105263163,-2.631578947368425,-0.5263157894736885,1.5789473684210478,3.684210526315784,5.78947368421052,7.894736842105257,9.999999999999996,12.105263157894733,14.210526315789469,16.315789473684205,18.42105263157894,20.52631578947368,22.631578947368414,24.736842105263154],[-12.105263157894736,-10.0,-7.894736842105264,-5.789473684210526,-3.6842105263157894,-1.578947368421053,0.526315789473685,2.6315789473684212,4.7368421052631575,6.842105263157894,8.94736842105263,11.052631578947366,13.157894736842106,15.263157894736842,17.36842105263158,19.473684210526315,21.57894736842105,23.68421052631579,25.789473684210524,27.894736842105264],[-8.947368421052632,-6.842105263157896,-4.736842105263159,-2.6315789473684212,-0.526315789473685,1.5789473684210513,3.6842105263157894,5.789473684210526,7.894736842105262,9.999999999999998,12.105263157894735,14.21052631578947,16.315789473684212,18.421052631578945,20.526315789473685,22.631578947368418,24.736842105263158,26.842105263157897,28.94736842105263,31.05263157894737],[-5.789473684210527,-3.684210526315791,-1.5789473684210549,0.5263157894736832,2.6315789473684195,4.736842105263156,6.842105263157894,8.94736842105263,11.052631578947366,13.157894736842103,15.263157894736839,17.368421052631575,19.473684210526315,21.57894736842105,23.684210526315788,25.789473684210524,27.89473684210526,30.0,32.10526315789473,34.21052631578947],[-2.631578947368425,-0.5263157894736885,1.5789473684210478,3.684210526315786,5.789473684210522,7.894736842105258,9.999999999999996,12.105263157894733,14.210526315789469,16.315789473684205,18.42105263157894,20.526315789473678,22.631578947368418,24.736842105263154,26.84210526315789,28.947368421052627,31.052631578947363,33.1578947368421,35.263157894736835,37.368421052631575],[0.5263157894736814,2.6315789473684177,4.736842105263154,6.842105263157892,8.947368421052628,11.052631578947365,13.157894736842103,15.263157894736839,17.368421052631575,19.47368421052631,21.578947368421048,23.684210526315784,25.789473684210524,27.89473684210526,29.999999999999996,32.10526315789473,34.210526315789465,36.315789473684205,38.421052631578945,40.526315789473685],[3.684210526315791,5.789473684210527,7.894736842105264,10.000000000000002,12.105263157894738,14.210526315789474,16.315789473684212,18.42105263157895,20.526315789473685,22.63157894736842,24.736842105263158,26.842105263157894,28.947368421052634,31.05263157894737,33.15789473684211,35.26315789473684,37.368421052631575,39.473684210526315,41.578947368421055,43.684210526315795],[6.84210526315789,8.947368421052627,11.052631578947363,13.1578947368421,15.263157894736837,17.368421052631575,19.47368421052631,21.578947368421048,23.684210526315784,25.78947368421052,27.894736842105257,29.999999999999993,32.10526315789473,34.210526315789465,36.315789473684205,38.421052631578945,40.52631578947368,42.63157894736842,44.73684210526315,46.84210526315789],[10.0,12.105263157894736,14.210526315789473,16.315789473684212,18.421052631578945,20.526315789473685,22.63157894736842,24.736842105263158,26.842105263157894,28.94736842105263,31.052631578947366,33.1578947368421,35.26315789473684,37.368421052631575,39.473684210526315,41.578947368421055,43.68421052631579,45.78947368421053,47.89473684210526,50.0]],\"type\":\"surface\"},{\"colorscale\":[[0.0,\"rgb(247,251,255)\"],[0.125,\"rgb(222,235,247)\"],[0.25,\"rgb(198,219,239)\"],[0.375,\"rgb(158,202,225)\"],[0.5,\"rgb(107,174,214)\"],[0.625,\"rgb(66,146,198)\"],[0.75,\"rgb(33,113,181)\"],[0.875,\"rgb(8,81,156)\"],[1.0,\"rgb(8,48,107)\"]],\"name\":\"Translated Plane\",\"x\":[[-10.0,-8.947368421052632,-7.894736842105264,-6.842105263157895,-5.7894736842105265,-4.736842105263158,-3.6842105263157894,-2.6315789473684212,-1.578947368421053,-0.526315789473685,0.5263157894736832,1.5789473684210513,2.6315789473684212,3.6842105263157894,4.7368421052631575,5.789473684210526,6.842105263157894,7.894736842105264,8.94736842105263,10.0],[-10.0,-8.947368421052632,-7.894736842105264,-6.842105263157895,-5.7894736842105265,-4.736842105263158,-3.6842105263157894,-2.6315789473684212,-1.578947368421053,-0.526315789473685,0.5263157894736832,1.5789473684210513,2.6315789473684212,3.6842105263157894,4.7368421052631575,5.789473684210526,6.842105263157894,7.894736842105264,8.94736842105263,10.0],[-10.0,-8.947368421052632,-7.894736842105264,-6.842105263157895,-5.7894736842105265,-4.736842105263158,-3.6842105263157894,-2.6315789473684212,-1.578947368421053,-0.526315789473685,0.5263157894736832,1.5789473684210513,2.6315789473684212,3.6842105263157894,4.7368421052631575,5.789473684210526,6.842105263157894,7.894736842105264,8.94736842105263,10.0],[-10.0,-8.947368421052632,-7.894736842105264,-6.842105263157895,-5.7894736842105265,-4.736842105263158,-3.6842105263157894,-2.6315789473684212,-1.578947368421053,-0.526315789473685,0.5263157894736832,1.5789473684210513,2.6315789473684212,3.6842105263157894,4.7368421052631575,5.789473684210526,6.842105263157894,7.894736842105264,8.94736842105263,10.0],[-10.0,-8.947368421052632,-7.894736842105264,-6.842105263157895,-5.7894736842105265,-4.736842105263158,-3.6842105263157894,-2.6315789473684212,-1.578947368421053,-0.526315789473685,0.5263157894736832,1.5789473684210513,2.6315789473684212,3.6842105263157894,4.7368421052631575,5.789473684210526,6.842105263157894,7.894736842105264,8.94736842105263,10.0],[-10.0,-8.947368421052632,-7.894736842105264,-6.842105263157895,-5.7894736842105265,-4.736842105263158,-3.6842105263157894,-2.6315789473684212,-1.578947368421053,-0.526315789473685,0.5263157894736832,1.5789473684210513,2.6315789473684212,3.6842105263157894,4.7368421052631575,5.789473684210526,6.842105263157894,7.894736842105264,8.94736842105263,10.0],[-10.0,-8.947368421052632,-7.894736842105264,-6.842105263157895,-5.7894736842105265,-4.736842105263158,-3.6842105263157894,-2.6315789473684212,-1.578947368421053,-0.526315789473685,0.5263157894736832,1.5789473684210513,2.6315789473684212,3.6842105263157894,4.7368421052631575,5.789473684210526,6.842105263157894,7.894736842105264,8.94736842105263,10.0],[-10.0,-8.947368421052632,-7.894736842105264,-6.842105263157895,-5.7894736842105265,-4.736842105263158,-3.6842105263157894,-2.6315789473684212,-1.578947368421053,-0.526315789473685,0.5263157894736832,1.5789473684210513,2.6315789473684212,3.6842105263157894,4.7368421052631575,5.789473684210526,6.842105263157894,7.894736842105264,8.94736842105263,10.0],[-10.0,-8.947368421052632,-7.894736842105264,-6.842105263157895,-5.7894736842105265,-4.736842105263158,-3.6842105263157894,-2.6315789473684212,-1.578947368421053,-0.526315789473685,0.5263157894736832,1.5789473684210513,2.6315789473684212,3.6842105263157894,4.7368421052631575,5.789473684210526,6.842105263157894,7.894736842105264,8.94736842105263,10.0],[-10.0,-8.947368421052632,-7.894736842105264,-6.842105263157895,-5.7894736842105265,-4.736842105263158,-3.6842105263157894,-2.6315789473684212,-1.578947368421053,-0.526315789473685,0.5263157894736832,1.5789473684210513,2.6315789473684212,3.6842105263157894,4.7368421052631575,5.789473684210526,6.842105263157894,7.894736842105264,8.94736842105263,10.0],[-10.0,-8.947368421052632,-7.894736842105264,-6.842105263157895,-5.7894736842105265,-4.736842105263158,-3.6842105263157894,-2.6315789473684212,-1.578947368421053,-0.526315789473685,0.5263157894736832,1.5789473684210513,2.6315789473684212,3.6842105263157894,4.7368421052631575,5.789473684210526,6.842105263157894,7.894736842105264,8.94736842105263,10.0],[-10.0,-8.947368421052632,-7.894736842105264,-6.842105263157895,-5.7894736842105265,-4.736842105263158,-3.6842105263157894,-2.6315789473684212,-1.578947368421053,-0.526315789473685,0.5263157894736832,1.5789473684210513,2.6315789473684212,3.6842105263157894,4.7368421052631575,5.789473684210526,6.842105263157894,7.894736842105264,8.94736842105263,10.0],[-10.0,-8.947368421052632,-7.894736842105264,-6.842105263157895,-5.7894736842105265,-4.736842105263158,-3.6842105263157894,-2.6315789473684212,-1.578947368421053,-0.526315789473685,0.5263157894736832,1.5789473684210513,2.6315789473684212,3.6842105263157894,4.7368421052631575,5.789473684210526,6.842105263157894,7.894736842105264,8.94736842105263,10.0],[-10.0,-8.947368421052632,-7.894736842105264,-6.842105263157895,-5.7894736842105265,-4.736842105263158,-3.6842105263157894,-2.6315789473684212,-1.578947368421053,-0.526315789473685,0.5263157894736832,1.5789473684210513,2.6315789473684212,3.6842105263157894,4.7368421052631575,5.789473684210526,6.842105263157894,7.894736842105264,8.94736842105263,10.0],[-10.0,-8.947368421052632,-7.894736842105264,-6.842105263157895,-5.7894736842105265,-4.736842105263158,-3.6842105263157894,-2.6315789473684212,-1.578947368421053,-0.526315789473685,0.5263157894736832,1.5789473684210513,2.6315789473684212,3.6842105263157894,4.7368421052631575,5.789473684210526,6.842105263157894,7.894736842105264,8.94736842105263,10.0],[-10.0,-8.947368421052632,-7.894736842105264,-6.842105263157895,-5.7894736842105265,-4.736842105263158,-3.6842105263157894,-2.6315789473684212,-1.578947368421053,-0.526315789473685,0.5263157894736832,1.5789473684210513,2.6315789473684212,3.6842105263157894,4.7368421052631575,5.789473684210526,6.842105263157894,7.894736842105264,8.94736842105263,10.0],[-10.0,-8.947368421052632,-7.894736842105264,-6.842105263157895,-5.7894736842105265,-4.736842105263158,-3.6842105263157894,-2.6315789473684212,-1.578947368421053,-0.526315789473685,0.5263157894736832,1.5789473684210513,2.6315789473684212,3.6842105263157894,4.7368421052631575,5.789473684210526,6.842105263157894,7.894736842105264,8.94736842105263,10.0],[-10.0,-8.947368421052632,-7.894736842105264,-6.842105263157895,-5.7894736842105265,-4.736842105263158,-3.6842105263157894,-2.6315789473684212,-1.578947368421053,-0.526315789473685,0.5263157894736832,1.5789473684210513,2.6315789473684212,3.6842105263157894,4.7368421052631575,5.789473684210526,6.842105263157894,7.894736842105264,8.94736842105263,10.0],[-10.0,-8.947368421052632,-7.894736842105264,-6.842105263157895,-5.7894736842105265,-4.736842105263158,-3.6842105263157894,-2.6315789473684212,-1.578947368421053,-0.526315789473685,0.5263157894736832,1.5789473684210513,2.6315789473684212,3.6842105263157894,4.7368421052631575,5.789473684210526,6.842105263157894,7.894736842105264,8.94736842105263,10.0],[-10.0,-8.947368421052632,-7.894736842105264,-6.842105263157895,-5.7894736842105265,-4.736842105263158,-3.6842105263157894,-2.6315789473684212,-1.578947368421053,-0.526315789473685,0.5263157894736832,1.5789473684210513,2.6315789473684212,3.6842105263157894,4.7368421052631575,5.789473684210526,6.842105263157894,7.894736842105264,8.94736842105263,10.0]],\"y\":[[-10.0,-10.0,-10.0,-10.0,-10.0,-10.0,-10.0,-10.0,-10.0,-10.0,-10.0,-10.0,-10.0,-10.0,-10.0,-10.0,-10.0,-10.0,-10.0,-10.0],[-8.947368421052632,-8.947368421052632,-8.947368421052632,-8.947368421052632,-8.947368421052632,-8.947368421052632,-8.947368421052632,-8.947368421052632,-8.947368421052632,-8.947368421052632,-8.947368421052632,-8.947368421052632,-8.947368421052632,-8.947368421052632,-8.947368421052632,-8.947368421052632,-8.947368421052632,-8.947368421052632,-8.947368421052632,-8.947368421052632],[-7.894736842105264,-7.894736842105264,-7.894736842105264,-7.894736842105264,-7.894736842105264,-7.894736842105264,-7.894736842105264,-7.894736842105264,-7.894736842105264,-7.894736842105264,-7.894736842105264,-7.894736842105264,-7.894736842105264,-7.894736842105264,-7.894736842105264,-7.894736842105264,-7.894736842105264,-7.894736842105264,-7.894736842105264,-7.894736842105264],[-6.842105263157895,-6.842105263157895,-6.842105263157895,-6.842105263157895,-6.842105263157895,-6.842105263157895,-6.842105263157895,-6.842105263157895,-6.842105263157895,-6.842105263157895,-6.842105263157895,-6.842105263157895,-6.842105263157895,-6.842105263157895,-6.842105263157895,-6.842105263157895,-6.842105263157895,-6.842105263157895,-6.842105263157895,-6.842105263157895],[-5.7894736842105265,-5.7894736842105265,-5.7894736842105265,-5.7894736842105265,-5.7894736842105265,-5.7894736842105265,-5.7894736842105265,-5.7894736842105265,-5.7894736842105265,-5.7894736842105265,-5.7894736842105265,-5.7894736842105265,-5.7894736842105265,-5.7894736842105265,-5.7894736842105265,-5.7894736842105265,-5.7894736842105265,-5.7894736842105265,-5.7894736842105265,-5.7894736842105265],[-4.736842105263158,-4.736842105263158,-4.736842105263158,-4.736842105263158,-4.736842105263158,-4.736842105263158,-4.736842105263158,-4.736842105263158,-4.736842105263158,-4.736842105263158,-4.736842105263158,-4.736842105263158,-4.736842105263158,-4.736842105263158,-4.736842105263158,-4.736842105263158,-4.736842105263158,-4.736842105263158,-4.736842105263158,-4.736842105263158],[-3.6842105263157894,-3.6842105263157894,-3.6842105263157894,-3.6842105263157894,-3.6842105263157894,-3.6842105263157894,-3.6842105263157894,-3.6842105263157894,-3.6842105263157894,-3.6842105263157894,-3.6842105263157894,-3.6842105263157894,-3.6842105263157894,-3.6842105263157894,-3.6842105263157894,-3.6842105263157894,-3.6842105263157894,-3.6842105263157894,-3.6842105263157894,-3.6842105263157894],[-2.6315789473684212,-2.6315789473684212,-2.6315789473684212,-2.6315789473684212,-2.6315789473684212,-2.6315789473684212,-2.6315789473684212,-2.6315789473684212,-2.6315789473684212,-2.6315789473684212,-2.6315789473684212,-2.6315789473684212,-2.6315789473684212,-2.6315789473684212,-2.6315789473684212,-2.6315789473684212,-2.6315789473684212,-2.6315789473684212,-2.6315789473684212,-2.6315789473684212],[-1.578947368421053,-1.578947368421053,-1.578947368421053,-1.578947368421053,-1.578947368421053,-1.578947368421053,-1.578947368421053,-1.578947368421053,-1.578947368421053,-1.578947368421053,-1.578947368421053,-1.578947368421053,-1.578947368421053,-1.578947368421053,-1.578947368421053,-1.578947368421053,-1.578947368421053,-1.578947368421053,-1.578947368421053,-1.578947368421053],[-0.526315789473685,-0.526315789473685,-0.526315789473685,-0.526315789473685,-0.526315789473685,-0.526315789473685,-0.526315789473685,-0.526315789473685,-0.526315789473685,-0.526315789473685,-0.526315789473685,-0.526315789473685,-0.526315789473685,-0.526315789473685,-0.526315789473685,-0.526315789473685,-0.526315789473685,-0.526315789473685,-0.526315789473685,-0.526315789473685],[0.5263157894736832,0.5263157894736832,0.5263157894736832,0.5263157894736832,0.5263157894736832,0.5263157894736832,0.5263157894736832,0.5263157894736832,0.5263157894736832,0.5263157894736832,0.5263157894736832,0.5263157894736832,0.5263157894736832,0.5263157894736832,0.5263157894736832,0.5263157894736832,0.5263157894736832,0.5263157894736832,0.5263157894736832,0.5263157894736832],[1.5789473684210513,1.5789473684210513,1.5789473684210513,1.5789473684210513,1.5789473684210513,1.5789473684210513,1.5789473684210513,1.5789473684210513,1.5789473684210513,1.5789473684210513,1.5789473684210513,1.5789473684210513,1.5789473684210513,1.5789473684210513,1.5789473684210513,1.5789473684210513,1.5789473684210513,1.5789473684210513,1.5789473684210513,1.5789473684210513],[2.6315789473684212,2.6315789473684212,2.6315789473684212,2.6315789473684212,2.6315789473684212,2.6315789473684212,2.6315789473684212,2.6315789473684212,2.6315789473684212,2.6315789473684212,2.6315789473684212,2.6315789473684212,2.6315789473684212,2.6315789473684212,2.6315789473684212,2.6315789473684212,2.6315789473684212,2.6315789473684212,2.6315789473684212,2.6315789473684212],[3.6842105263157894,3.6842105263157894,3.6842105263157894,3.6842105263157894,3.6842105263157894,3.6842105263157894,3.6842105263157894,3.6842105263157894,3.6842105263157894,3.6842105263157894,3.6842105263157894,3.6842105263157894,3.6842105263157894,3.6842105263157894,3.6842105263157894,3.6842105263157894,3.6842105263157894,3.6842105263157894,3.6842105263157894,3.6842105263157894],[4.7368421052631575,4.7368421052631575,4.7368421052631575,4.7368421052631575,4.7368421052631575,4.7368421052631575,4.7368421052631575,4.7368421052631575,4.7368421052631575,4.7368421052631575,4.7368421052631575,4.7368421052631575,4.7368421052631575,4.7368421052631575,4.7368421052631575,4.7368421052631575,4.7368421052631575,4.7368421052631575,4.7368421052631575,4.7368421052631575],[5.789473684210526,5.789473684210526,5.789473684210526,5.789473684210526,5.789473684210526,5.789473684210526,5.789473684210526,5.789473684210526,5.789473684210526,5.789473684210526,5.789473684210526,5.789473684210526,5.789473684210526,5.789473684210526,5.789473684210526,5.789473684210526,5.789473684210526,5.789473684210526,5.789473684210526,5.789473684210526],[6.842105263157894,6.842105263157894,6.842105263157894,6.842105263157894,6.842105263157894,6.842105263157894,6.842105263157894,6.842105263157894,6.842105263157894,6.842105263157894,6.842105263157894,6.842105263157894,6.842105263157894,6.842105263157894,6.842105263157894,6.842105263157894,6.842105263157894,6.842105263157894,6.842105263157894,6.842105263157894],[7.894736842105264,7.894736842105264,7.894736842105264,7.894736842105264,7.894736842105264,7.894736842105264,7.894736842105264,7.894736842105264,7.894736842105264,7.894736842105264,7.894736842105264,7.894736842105264,7.894736842105264,7.894736842105264,7.894736842105264,7.894736842105264,7.894736842105264,7.894736842105264,7.894736842105264,7.894736842105264],[8.94736842105263,8.94736842105263,8.94736842105263,8.94736842105263,8.94736842105263,8.94736842105263,8.94736842105263,8.94736842105263,8.94736842105263,8.94736842105263,8.94736842105263,8.94736842105263,8.94736842105263,8.94736842105263,8.94736842105263,8.94736842105263,8.94736842105263,8.94736842105263,8.94736842105263,8.94736842105263],[10.0,10.0,10.0,10.0,10.0,10.0,10.0,10.0,10.0,10.0,10.0,10.0,10.0,10.0,10.0,10.0,10.0,10.0,10.0,10.0]],\"z\":[[-50.0,-47.89473684210526,-45.78947368421053,-43.68421052631579,-41.578947368421055,-39.473684210526315,-37.368421052631575,-35.26315789473684,-33.15789473684211,-31.05263157894737,-28.947368421052634,-26.842105263157897,-24.736842105263158,-22.63157894736842,-20.526315789473685,-18.42105263157895,-16.315789473684212,-14.210526315789473,-12.10526315789474,-10.0],[-46.8421052631579,-44.736842105263165,-42.631578947368425,-40.526315789473685,-38.42105263157895,-36.31578947368421,-34.21052631578948,-32.10526315789474,-30.000000000000004,-27.894736842105267,-25.78947368421053,-23.684210526315795,-21.578947368421055,-19.47368421052632,-17.368421052631582,-15.263157894736846,-13.15789473684211,-11.05263157894737,-8.947368421052637,-6.842105263157897],[-43.684210526315795,-41.578947368421055,-39.473684210526315,-37.36842105263158,-35.26315789473684,-33.15789473684211,-31.05263157894737,-28.947368421052634,-26.842105263157897,-24.73684210526316,-22.631578947368425,-20.52631578947369,-18.42105263157895,-16.315789473684212,-14.210526315789476,-12.10526315789474,-10.000000000000004,-7.894736842105264,-5.789473684210531,-3.684210526315791],[-40.526315789473685,-38.421052631578945,-36.31578947368421,-34.21052631578947,-32.10526315789474,-30.0,-27.894736842105264,-25.789473684210527,-23.68421052631579,-21.578947368421055,-19.47368421052632,-17.368421052631582,-15.263157894736842,-13.157894736842106,-11.05263157894737,-8.947368421052634,-6.842105263157897,-4.7368421052631575,-2.631578947368425,-0.526315789473685],[-37.368421052631575,-35.26315789473684,-33.15789473684211,-31.05263157894737,-28.94736842105263,-26.842105263157897,-24.736842105263158,-22.63157894736842,-20.526315789473685,-18.42105263157895,-16.315789473684212,-14.210526315789476,-12.105263157894736,-10.0,-7.894736842105264,-5.789473684210527,-3.684210526315791,-1.5789473684210513,0.5263157894736814,2.6315789473684212],[-34.21052631578948,-32.10526315789474,-30.000000000000004,-27.894736842105267,-25.789473684210527,-23.684210526315795,-21.578947368421055,-19.47368421052632,-17.368421052631582,-15.263157894736846,-13.15789473684211,-11.052631578947373,-8.947368421052634,-6.842105263157897,-4.736842105263161,-2.631578947368425,-0.5263157894736885,1.5789473684210513,3.684210526315784,5.789473684210524],[-31.05263157894737,-28.94736842105263,-26.842105263157897,-24.736842105263158,-22.63157894736842,-20.526315789473685,-18.421052631578945,-16.315789473684212,-14.210526315789474,-12.105263157894738,-10.000000000000002,-7.8947368421052655,-5.789473684210526,-3.6842105263157894,-1.578947368421053,0.5263157894736832,2.6315789473684195,4.736842105263159,6.842105263157892,8.947368421052632],[-27.894736842105264,-25.789473684210527,-23.68421052631579,-21.578947368421055,-19.473684210526315,-17.368421052631582,-15.263157894736842,-13.157894736842106,-11.05263157894737,-8.947368421052634,-6.842105263157897,-4.736842105263161,-2.6315789473684212,-0.526315789473685,1.5789473684210513,3.6842105263157876,5.789473684210524,7.894736842105264,9.999999999999996,12.105263157894736],[-24.736842105263158,-22.631578947368425,-20.526315789473685,-18.42105263157895,-16.315789473684212,-14.210526315789476,-12.105263157894738,-10.000000000000002,-7.8947368421052655,-5.789473684210529,-3.684210526315793,-1.5789473684210567,0.5263157894736832,2.6315789473684195,4.736842105263156,6.842105263157892,8.947368421052628,11.052631578947368,13.1578947368421,15.26315789473684],[-21.578947368421055,-19.47368421052632,-17.368421052631582,-15.263157894736844,-13.157894736842108,-11.052631578947372,-8.947368421052634,-6.842105263157897,-4.736842105263161,-2.631578947368425,-0.5263157894736885,1.5789473684210478,3.6842105263157876,5.789473684210524,7.89473684210526,9.999999999999996,12.105263157894733,14.210526315789473,16.315789473684205,18.421052631578945],[-18.421052631578952,-16.315789473684212,-14.210526315789478,-12.10526315789474,-10.000000000000004,-7.894736842105267,-5.789473684210529,-3.684210526315793,-1.5789473684210567,0.5263157894736796,2.631578947368416,4.736842105263152,6.842105263157892,8.947368421052628,11.052631578947365,13.1578947368421,15.263157894736837,17.368421052631575,19.473684210526308,21.578947368421048],[-15.263157894736846,-13.15789473684211,-11.052631578947373,-8.947368421052635,-6.842105263157899,-4.736842105263163,-2.631578947368425,-0.5263157894736885,1.5789473684210478,3.684210526315784,5.78947368421052,7.894736842105257,9.999999999999996,12.105263157894733,14.210526315789469,16.315789473684205,18.42105263157894,20.52631578947368,22.631578947368414,24.736842105263154],[-12.105263157894736,-10.0,-7.894736842105264,-5.789473684210526,-3.6842105263157894,-1.578947368421053,0.526315789473685,2.6315789473684212,4.7368421052631575,6.842105263157894,8.94736842105263,11.052631578947366,13.157894736842106,15.263157894736842,17.36842105263158,19.473684210526315,21.57894736842105,23.68421052631579,25.789473684210524,27.894736842105264],[-8.947368421052632,-6.842105263157896,-4.736842105263159,-2.6315789473684212,-0.526315789473685,1.5789473684210513,3.6842105263157894,5.789473684210526,7.894736842105262,9.999999999999998,12.105263157894735,14.21052631578947,16.315789473684212,18.421052631578945,20.526315789473685,22.631578947368418,24.736842105263158,26.842105263157897,28.94736842105263,31.05263157894737],[-5.789473684210527,-3.684210526315791,-1.5789473684210549,0.5263157894736832,2.6315789473684195,4.736842105263156,6.842105263157894,8.94736842105263,11.052631578947366,13.157894736842103,15.263157894736839,17.368421052631575,19.473684210526315,21.57894736842105,23.684210526315788,25.789473684210524,27.89473684210526,30.0,32.10526315789473,34.21052631578947],[-2.631578947368425,-0.5263157894736885,1.5789473684210478,3.684210526315786,5.789473684210522,7.894736842105258,9.999999999999996,12.105263157894733,14.210526315789469,16.315789473684205,18.42105263157894,20.526315789473678,22.631578947368418,24.736842105263154,26.84210526315789,28.947368421052627,31.052631578947363,33.1578947368421,35.263157894736835,37.368421052631575],[0.5263157894736814,2.6315789473684177,4.736842105263154,6.842105263157892,8.947368421052628,11.052631578947365,13.157894736842103,15.263157894736839,17.368421052631575,19.47368421052631,21.578947368421048,23.684210526315784,25.789473684210524,27.89473684210526,29.999999999999996,32.10526315789473,34.210526315789465,36.315789473684205,38.421052631578945,40.526315789473685],[3.684210526315791,5.789473684210527,7.894736842105264,10.000000000000002,12.105263157894738,14.210526315789474,16.315789473684212,18.42105263157895,20.526315789473685,22.63157894736842,24.736842105263158,26.842105263157894,28.947368421052634,31.05263157894737,33.15789473684211,35.26315789473684,37.368421052631575,39.473684210526315,41.578947368421055,43.684210526315795],[6.84210526315789,8.947368421052627,11.052631578947363,13.1578947368421,15.263157894736837,17.368421052631575,19.47368421052631,21.578947368421048,23.684210526315784,25.78947368421052,27.894736842105257,29.999999999999993,32.10526315789473,34.210526315789465,36.315789473684205,38.421052631578945,40.52631578947368,42.63157894736842,44.73684210526315,46.84210526315789],[10.0,12.105263157894736,14.210526315789473,16.315789473684212,18.421052631578945,20.526315789473685,22.63157894736842,24.736842105263158,26.842105263157894,28.94736842105263,31.052631578947366,33.1578947368421,35.26315789473684,37.368421052631575,39.473684210526315,41.578947368421055,43.68421052631579,45.78947368421053,47.89473684210526,50.0]],\"type\":\"surface\"}],                        {\"template\":{\"data\":{\"histogram2dcontour\":[{\"type\":\"histogram2dcontour\",\"colorbar\":{\"outlinewidth\":0,\"ticks\":\"\"},\"colorscale\":[[0.0,\"#0d0887\"],[0.1111111111111111,\"#46039f\"],[0.2222222222222222,\"#7201a8\"],[0.3333333333333333,\"#9c179e\"],[0.4444444444444444,\"#bd3786\"],[0.5555555555555556,\"#d8576b\"],[0.6666666666666666,\"#ed7953\"],[0.7777777777777778,\"#fb9f3a\"],[0.8888888888888888,\"#fdca26\"],[1.0,\"#f0f921\"]]}],\"choropleth\":[{\"type\":\"choropleth\",\"colorbar\":{\"outlinewidth\":0,\"ticks\":\"\"}}],\"histogram2d\":[{\"type\":\"histogram2d\",\"colorbar\":{\"outlinewidth\":0,\"ticks\":\"\"},\"colorscale\":[[0.0,\"#0d0887\"],[0.1111111111111111,\"#46039f\"],[0.2222222222222222,\"#7201a8\"],[0.3333333333333333,\"#9c179e\"],[0.4444444444444444,\"#bd3786\"],[0.5555555555555556,\"#d8576b\"],[0.6666666666666666,\"#ed7953\"],[0.7777777777777778,\"#fb9f3a\"],[0.8888888888888888,\"#fdca26\"],[1.0,\"#f0f921\"]]}],\"heatmap\":[{\"type\":\"heatmap\",\"colorbar\":{\"outlinewidth\":0,\"ticks\":\"\"},\"colorscale\":[[0.0,\"#0d0887\"],[0.1111111111111111,\"#46039f\"],[0.2222222222222222,\"#7201a8\"],[0.3333333333333333,\"#9c179e\"],[0.4444444444444444,\"#bd3786\"],[0.5555555555555556,\"#d8576b\"],[0.6666666666666666,\"#ed7953\"],[0.7777777777777778,\"#fb9f3a\"],[0.8888888888888888,\"#fdca26\"],[1.0,\"#f0f921\"]]}],\"heatmapgl\":[{\"type\":\"heatmapgl\",\"colorbar\":{\"outlinewidth\":0,\"ticks\":\"\"},\"colorscale\":[[0.0,\"#0d0887\"],[0.1111111111111111,\"#46039f\"],[0.2222222222222222,\"#7201a8\"],[0.3333333333333333,\"#9c179e\"],[0.4444444444444444,\"#bd3786\"],[0.5555555555555556,\"#d8576b\"],[0.6666666666666666,\"#ed7953\"],[0.7777777777777778,\"#fb9f3a\"],[0.8888888888888888,\"#fdca26\"],[1.0,\"#f0f921\"]]}],\"contourcarpet\":[{\"type\":\"contourcarpet\",\"colorbar\":{\"outlinewidth\":0,\"ticks\":\"\"}}],\"contour\":[{\"type\":\"contour\",\"colorbar\":{\"outlinewidth\":0,\"ticks\":\"\"},\"colorscale\":[[0.0,\"#0d0887\"],[0.1111111111111111,\"#46039f\"],[0.2222222222222222,\"#7201a8\"],[0.3333333333333333,\"#9c179e\"],[0.4444444444444444,\"#bd3786\"],[0.5555555555555556,\"#d8576b\"],[0.6666666666666666,\"#ed7953\"],[0.7777777777777778,\"#fb9f3a\"],[0.8888888888888888,\"#fdca26\"],[1.0,\"#f0f921\"]]}],\"surface\":[{\"type\":\"surface\",\"colorbar\":{\"outlinewidth\":0,\"ticks\":\"\"},\"colorscale\":[[0.0,\"#0d0887\"],[0.1111111111111111,\"#46039f\"],[0.2222222222222222,\"#7201a8\"],[0.3333333333333333,\"#9c179e\"],[0.4444444444444444,\"#bd3786\"],[0.5555555555555556,\"#d8576b\"],[0.6666666666666666,\"#ed7953\"],[0.7777777777777778,\"#fb9f3a\"],[0.8888888888888888,\"#fdca26\"],[1.0,\"#f0f921\"]]}],\"mesh3d\":[{\"type\":\"mesh3d\",\"colorbar\":{\"outlinewidth\":0,\"ticks\":\"\"}}],\"scatter\":[{\"fillpattern\":{\"fillmode\":\"overlay\",\"size\":10,\"solidity\":0.2},\"type\":\"scatter\"}],\"parcoords\":[{\"type\":\"parcoords\",\"line\":{\"colorbar\":{\"outlinewidth\":0,\"ticks\":\"\"}}}],\"scatterpolargl\":[{\"type\":\"scatterpolargl\",\"marker\":{\"colorbar\":{\"outlinewidth\":0,\"ticks\":\"\"}}}],\"bar\":[{\"error_x\":{\"color\":\"#2a3f5f\"},\"error_y\":{\"color\":\"#2a3f5f\"},\"marker\":{\"line\":{\"color\":\"#E5ECF6\",\"width\":0.5},\"pattern\":{\"fillmode\":\"overlay\",\"size\":10,\"solidity\":0.2}},\"type\":\"bar\"}],\"scattergeo\":[{\"type\":\"scattergeo\",\"marker\":{\"colorbar\":{\"outlinewidth\":0,\"ticks\":\"\"}}}],\"scatterpolar\":[{\"type\":\"scatterpolar\",\"marker\":{\"colorbar\":{\"outlinewidth\":0,\"ticks\":\"\"}}}],\"histogram\":[{\"marker\":{\"pattern\":{\"fillmode\":\"overlay\",\"size\":10,\"solidity\":0.2}},\"type\":\"histogram\"}],\"scattergl\":[{\"type\":\"scattergl\",\"marker\":{\"colorbar\":{\"outlinewidth\":0,\"ticks\":\"\"}}}],\"scatter3d\":[{\"type\":\"scatter3d\",\"line\":{\"colorbar\":{\"outlinewidth\":0,\"ticks\":\"\"}},\"marker\":{\"colorbar\":{\"outlinewidth\":0,\"ticks\":\"\"}}}],\"scattermapbox\":[{\"type\":\"scattermapbox\",\"marker\":{\"colorbar\":{\"outlinewidth\":0,\"ticks\":\"\"}}}],\"scatterternary\":[{\"type\":\"scatterternary\",\"marker\":{\"colorbar\":{\"outlinewidth\":0,\"ticks\":\"\"}}}],\"scattercarpet\":[{\"type\":\"scattercarpet\",\"marker\":{\"colorbar\":{\"outlinewidth\":0,\"ticks\":\"\"}}}],\"carpet\":[{\"aaxis\":{\"endlinecolor\":\"#2a3f5f\",\"gridcolor\":\"white\",\"linecolor\":\"white\",\"minorgridcolor\":\"white\",\"startlinecolor\":\"#2a3f5f\"},\"baxis\":{\"endlinecolor\":\"#2a3f5f\",\"gridcolor\":\"white\",\"linecolor\":\"white\",\"minorgridcolor\":\"white\",\"startlinecolor\":\"#2a3f5f\"},\"type\":\"carpet\"}],\"table\":[{\"cells\":{\"fill\":{\"color\":\"#EBF0F8\"},\"line\":{\"color\":\"white\"}},\"header\":{\"fill\":{\"color\":\"#C8D4E3\"},\"line\":{\"color\":\"white\"}},\"type\":\"table\"}],\"barpolar\":[{\"marker\":{\"line\":{\"color\":\"#E5ECF6\",\"width\":0.5},\"pattern\":{\"fillmode\":\"overlay\",\"size\":10,\"solidity\":0.2}},\"type\":\"barpolar\"}],\"pie\":[{\"automargin\":true,\"type\":\"pie\"}]},\"layout\":{\"autotypenumbers\":\"strict\",\"colorway\":[\"#636efa\",\"#EF553B\",\"#00cc96\",\"#ab63fa\",\"#FFA15A\",\"#19d3f3\",\"#FF6692\",\"#B6E880\",\"#FF97FF\",\"#FECB52\"],\"font\":{\"color\":\"#2a3f5f\"},\"hovermode\":\"closest\",\"hoverlabel\":{\"align\":\"left\"},\"paper_bgcolor\":\"white\",\"plot_bgcolor\":\"#E5ECF6\",\"polar\":{\"bgcolor\":\"#E5ECF6\",\"angularaxis\":{\"gridcolor\":\"white\",\"linecolor\":\"white\",\"ticks\":\"\"},\"radialaxis\":{\"gridcolor\":\"white\",\"linecolor\":\"white\",\"ticks\":\"\"}},\"ternary\":{\"bgcolor\":\"#E5ECF6\",\"aaxis\":{\"gridcolor\":\"white\",\"linecolor\":\"white\",\"ticks\":\"\"},\"baxis\":{\"gridcolor\":\"white\",\"linecolor\":\"white\",\"ticks\":\"\"},\"caxis\":{\"gridcolor\":\"white\",\"linecolor\":\"white\",\"ticks\":\"\"}},\"coloraxis\":{\"colorbar\":{\"outlinewidth\":0,\"ticks\":\"\"}},\"colorscale\":{\"sequential\":[[0.0,\"#0d0887\"],[0.1111111111111111,\"#46039f\"],[0.2222222222222222,\"#7201a8\"],[0.3333333333333333,\"#9c179e\"],[0.4444444444444444,\"#bd3786\"],[0.5555555555555556,\"#d8576b\"],[0.6666666666666666,\"#ed7953\"],[0.7777777777777778,\"#fb9f3a\"],[0.8888888888888888,\"#fdca26\"],[1.0,\"#f0f921\"]],\"sequentialminus\":[[0.0,\"#0d0887\"],[0.1111111111111111,\"#46039f\"],[0.2222222222222222,\"#7201a8\"],[0.3333333333333333,\"#9c179e\"],[0.4444444444444444,\"#bd3786\"],[0.5555555555555556,\"#d8576b\"],[0.6666666666666666,\"#ed7953\"],[0.7777777777777778,\"#fb9f3a\"],[0.8888888888888888,\"#fdca26\"],[1.0,\"#f0f921\"]],\"diverging\":[[0,\"#8e0152\"],[0.1,\"#c51b7d\"],[0.2,\"#de77ae\"],[0.3,\"#f1b6da\"],[0.4,\"#fde0ef\"],[0.5,\"#f7f7f7\"],[0.6,\"#e6f5d0\"],[0.7,\"#b8e186\"],[0.8,\"#7fbc41\"],[0.9,\"#4d9221\"],[1,\"#276419\"]]},\"xaxis\":{\"gridcolor\":\"white\",\"linecolor\":\"white\",\"ticks\":\"\",\"title\":{\"standoff\":15},\"zerolinecolor\":\"white\",\"automargin\":true,\"zerolinewidth\":2},\"yaxis\":{\"gridcolor\":\"white\",\"linecolor\":\"white\",\"ticks\":\"\",\"title\":{\"standoff\":15},\"zerolinecolor\":\"white\",\"automargin\":true,\"zerolinewidth\":2},\"scene\":{\"xaxis\":{\"backgroundcolor\":\"#E5ECF6\",\"gridcolor\":\"white\",\"linecolor\":\"white\",\"showbackground\":true,\"ticks\":\"\",\"zerolinecolor\":\"white\",\"gridwidth\":2},\"yaxis\":{\"backgroundcolor\":\"#E5ECF6\",\"gridcolor\":\"white\",\"linecolor\":\"white\",\"showbackground\":true,\"ticks\":\"\",\"zerolinecolor\":\"white\",\"gridwidth\":2},\"zaxis\":{\"backgroundcolor\":\"#E5ECF6\",\"gridcolor\":\"white\",\"linecolor\":\"white\",\"showbackground\":true,\"ticks\":\"\",\"zerolinecolor\":\"white\",\"gridwidth\":2}},\"shapedefaults\":{\"line\":{\"color\":\"#2a3f5f\"}},\"annotationdefaults\":{\"arrowcolor\":\"#2a3f5f\",\"arrowhead\":0,\"arrowwidth\":1},\"geo\":{\"bgcolor\":\"white\",\"landcolor\":\"#E5ECF6\",\"subunitcolor\":\"white\",\"showland\":true,\"showlakes\":true,\"lakecolor\":\"white\"},\"title\":{\"x\":0.05},\"mapbox\":{\"style\":\"light\"}}},\"scene\":{\"aspectmode\":\"cube\"}},                        {\"responsive\": true}                    ).then(function(){\n",
              "                            \n",
              "var gd = document.getElementById('d6003efd-06a0-460f-917b-1b2ea4d7758d');\n",
              "var x = new MutationObserver(function (mutations, observer) {{\n",
              "        var display = window.getComputedStyle(gd).display;\n",
              "        if (!display || display === 'none') {{\n",
              "            console.log([gd, 'removed!']);\n",
              "            Plotly.purge(gd);\n",
              "            observer.disconnect();\n",
              "        }}\n",
              "}});\n",
              "\n",
              "// Listen for the removal of the full notebook cells\n",
              "var notebookContainer = gd.closest('#notebook-container');\n",
              "if (notebookContainer) {{\n",
              "    x.observe(notebookContainer, {childList: true});\n",
              "}}\n",
              "\n",
              "// Listen for the clearing of the current output cell\n",
              "var outputEl = gd.closest('.output');\n",
              "if (outputEl) {{\n",
              "    x.observe(outputEl, {childList: true});\n",
              "}}\n",
              "\n",
              "                        })                };                            </script>        </div>\n",
              "</body>\n",
              "</html>"
            ]
          },
          "metadata": {}
        },
        {
          "output_type": "stream",
          "name": "stdout",
          "text": [
            "\n",
            "The solution spans the following vector(s):\n",
            "\n",
            "Matrix([[-2], [1], [0]])\n",
            "Matrix([[1], [0], [0]])\n",
            "Matrix([[4], [0], [0]])\n"
          ]
        }
      ],
      "source": [
        "def test_infinite_solutions_line():\n",
        "    input_matrix = sp.Matrix([\n",
        "        [1, 2, -1, 4],\n",
        "        [2, 4, -2, 8],\n",
        "        [-1, -2, 1, -4]\n",
        "    ])\n",
        "    rref_matrix, pivot_columns = input_matrix.rref()\n",
        "    vectors = generate_vectors(rref_matrix, pivot_columns)\n",
        "    plot_solution_set(vectors)\n",
        "\n",
        "test_infinite_solutions_line()"
      ]
    },
    {
      "cell_type": "code",
      "execution_count": 29,
      "metadata": {
        "id": "eVKAWZIhYpHa",
        "outputId": "a2f8ebdf-4d75-46d7-bf30-2f2353840d2d",
        "colab": {
          "base_uri": "https://localhost:8080/"
        }
      },
      "outputs": [
        {
          "output_type": "stream",
          "name": "stdout",
          "text": [
            "\n",
            "The solution spans the following vector(s):\n",
            "\n",
            "Matrix([[0], [0], [0]])\n"
          ]
        }
      ],
      "source": [
        "def test_infinite_solutions_plane():\n",
        "    input_matrix = sp.Matrix([\n",
        "        [1, 1, 1, 0],\n",
        "        [0, 1, 1, 0],\n",
        "        [0, 0, 1, 0]\n",
        "    ])\n",
        "    rref_matrix, pivot_columns = input_matrix.rref()\n",
        "    vectors = generate_vectors(rref_matrix, pivot_columns)\n",
        "    plot_solution_set(vectors)\n",
        "\n",
        "test_infinite_solutions_plane()"
      ]
    },
    {
      "cell_type": "code",
      "execution_count": 30,
      "metadata": {
        "id": "O4Oadv4KYpHa",
        "outputId": "3e66e3be-a1cc-43d1-cb95-81be8326c82d",
        "colab": {
          "base_uri": "https://localhost:8080/"
        }
      },
      "outputs": [
        {
          "output_type": "stream",
          "name": "stdout",
          "text": [
            "The system has no solutions (it is inconsistent).\n",
            "\n"
          ]
        }
      ],
      "source": [
        "def test_no_solutions():\n",
        "    input_matrix = sp.Matrix([\n",
        "        [1, 1, 1, 1],\n",
        "        [2, 2, 2, 2],\n",
        "        [3, 3, 3, 4]\n",
        "    ])\n",
        "    rref_matrix, pivot_columns = input_matrix.rref()\n",
        "    vectors = generate_vectors(rref_matrix, pivot_columns)\n",
        "    plot_solution_set(vectors)\n",
        "\n",
        "test_no_solutions()"
      ]
    },
    {
      "cell_type": "code",
      "execution_count": 31,
      "metadata": {
        "id": "-SlcFGgPYpHa",
        "outputId": "ad81c8d1-1569-45a5-adc9-3b3fa4eabdf1",
        "colab": {
          "base_uri": "https://localhost:8080/"
        }
      },
      "outputs": [
        {
          "output_type": "stream",
          "name": "stdout",
          "text": [
            "\n",
            "The solution spans the following vector(s):\n",
            "\n",
            "Matrix([[0], [1], [0]])\n",
            "Matrix([[0], [0], [1]])\n",
            "Matrix([[0], [0], [0]])\n",
            "Matrix([[0], [0], [0]])\n"
          ]
        }
      ],
      "source": [
        "def test_zero_matrix():\n",
        "    input_matrix = sp.Matrix([\n",
        "        [0, 0, 0, 0],\n",
        "        [0, 0, 0, 0],\n",
        "        [0, 0, 0, 0]\n",
        "    ])\n",
        "    rref_matrix, pivot_columns = input_matrix.rref()\n",
        "    vectors = generate_vectors(rref_matrix, pivot_columns)\n",
        "    plot_solution_set(vectors)\n",
        "\n",
        "test_zero_matrix()"
      ]
    },
    {
      "cell_type": "code",
      "execution_count": 32,
      "metadata": {
        "id": "6dMuxikjYpHa",
        "outputId": "fb7515af-0f6d-4cfa-e00b-4c4667dca603",
        "colab": {
          "base_uri": "https://localhost:8080/"
        }
      },
      "outputs": [
        {
          "output_type": "stream",
          "name": "stdout",
          "text": [
            "\n",
            "The solution spans the following vector(s):\n",
            "\n",
            "Matrix([[1, 2, 3]])\n"
          ]
        }
      ],
      "source": [
        "def test_single_row():\n",
        "    input_matrix = sp.Matrix([\n",
        "        [1, 2, 3, 4]\n",
        "    ])\n",
        "    rref_matrix, pivot_columns = input_matrix.rref()\n",
        "    vectors = generate_vectors(rref_matrix, pivot_columns)\n",
        "    plot_solution_set(vectors)\n",
        "\n",
        "test_single_row()"
      ]
    },
    {
      "cell_type": "code",
      "execution_count": 14,
      "metadata": {
        "id": "R8GNEpOkYpHa"
      },
      "outputs": [],
      "source": []
    },
    {
      "cell_type": "code",
      "execution_count": null,
      "metadata": {
        "id": "tlQLbqpAYpHb"
      },
      "outputs": [],
      "source": []
    },
    {
      "cell_type": "code",
      "execution_count": null,
      "metadata": {
        "id": "1d6ZUr_lYpHb"
      },
      "outputs": [],
      "source": []
    },
    {
      "cell_type": "code",
      "execution_count": null,
      "metadata": {
        "id": "oJkTKTjqYpHb"
      },
      "outputs": [],
      "source": []
    },
    {
      "cell_type": "code",
      "execution_count": null,
      "metadata": {
        "id": "RCy0cxfJYpHb"
      },
      "outputs": [],
      "source": []
    },
    {
      "cell_type": "code",
      "execution_count": null,
      "metadata": {
        "id": "JQrHnAdXYpHb"
      },
      "outputs": [],
      "source": []
    },
    {
      "cell_type": "code",
      "execution_count": null,
      "metadata": {
        "id": "V8fGaq33YpHb"
      },
      "outputs": [],
      "source": []
    },
    {
      "cell_type": "code",
      "execution_count": null,
      "metadata": {
        "id": "FvxZGD1LYpHb"
      },
      "outputs": [],
      "source": []
    },
    {
      "cell_type": "code",
      "execution_count": null,
      "metadata": {
        "id": "zgzlSo7NYpHb"
      },
      "outputs": [],
      "source": []
    },
    {
      "cell_type": "code",
      "execution_count": null,
      "metadata": {
        "id": "LuCUw7jfYpHb"
      },
      "outputs": [],
      "source": []
    },
    {
      "cell_type": "code",
      "execution_count": null,
      "metadata": {
        "id": "MSDMI_CPYpHb"
      },
      "outputs": [],
      "source": []
    },
    {
      "cell_type": "code",
      "execution_count": null,
      "metadata": {
        "id": "xpClMwJJYpHb"
      },
      "outputs": [],
      "source": []
    },
    {
      "cell_type": "code",
      "execution_count": null,
      "metadata": {
        "id": "I-x77RuhYpHb"
      },
      "outputs": [],
      "source": []
    },
    {
      "cell_type": "code",
      "execution_count": null,
      "metadata": {
        "id": "a5hpB2AnYpHb"
      },
      "outputs": [],
      "source": []
    },
    {
      "cell_type": "code",
      "execution_count": null,
      "metadata": {
        "id": "FrU4KjyIYpHb"
      },
      "outputs": [],
      "source": []
    },
    {
      "cell_type": "code",
      "execution_count": null,
      "metadata": {
        "id": "xElbnksAYpHb"
      },
      "outputs": [],
      "source": []
    },
    {
      "cell_type": "markdown",
      "metadata": {
        "id": "eWwmVST8YpHb"
      },
      "source": [
        "add more inputs and edit the code to allow implementation of these:\n",
        "import matplotlib.pyplot as plt\n",
        "import numpy as np\n",
        "import sympy as sp\n",
        "import matplotlib.pyplot as plt\n",
        "from mpl_toolkits.mplot3d import Axes3D\n",
        "import plotly.graph_objects as go\n",
        "import numpy as np\n",
        "import plotly.express as px\n",
        "\n",
        "allow them to add line by line\n",
        "print\n",
        "allow them to edit\n",
        "then allow them to chnage the position they want\n",
        "while loop to keep to running\n",
        "until they say done\n",
        "\n",
        "Write code to insert '|' before the last element, (i-2 or i-1)\n",
        "[3, 5, 6 | 5]\n",
        "[3, 5, 6 | 5]\n",
        "[3, 5, 6 | 5]\n",
        "\n",
        "prompt user: augmented matrix\n",
        "ask them to do the b\n",
        "\n",
        "ask the user or show them different things:\n",
        "For the result section: it should focus one: inconsistent, unique solutions, free variables\n",
        "When it is unique we will show them the output so we wont need to plot\n",
        "When it is inconsistent too\n",
        "Do more research on the plotting plane, and the use cases\n",
        "\n",
        "For the report\n",
        "do a case where you can plot and show the different scenarios (1 fee variable, 2 free etc)\n",
        "[1,2,3,4,5...9] -> good example\n",
        "add when the solution doesnt exist the parallel lines\n",
        "refer to the textbook for plane and translation\n",
        "\n",
        "plot both planes\n",
        "\n",
        "good conclusion\n",
        "\n",
        "talk about the transaltion\n",
        "\n",
        "dont forget homo and non-homo"
      ]
    }
  ],
  "metadata": {
    "kernelspec": {
      "display_name": "Python 3 (ipykernel)",
      "language": "python",
      "name": "python3"
    },
    "language_info": {
      "codemirror_mode": {
        "name": "ipython",
        "version": 3
      },
      "file_extension": ".py",
      "mimetype": "text/x-python",
      "name": "python",
      "nbconvert_exporter": "python",
      "pygments_lexer": "ipython3",
      "version": "3.10.9"
    },
    "colab": {
      "provenance": []
    }
  },
  "nbformat": 4,
  "nbformat_minor": 0
}